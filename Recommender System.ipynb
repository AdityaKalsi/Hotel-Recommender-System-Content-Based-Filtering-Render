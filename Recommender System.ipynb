{
 "cells": [
  {
   "cell_type": "code",
   "execution_count": 1,
   "id": "b971365a-d365-43fc-9e58-db07a62151b8",
   "metadata": {},
   "outputs": [],
   "source": [
    "import pandas as pd\n",
    "import numpy as np"
   ]
  },
  {
   "cell_type": "code",
   "execution_count": 2,
   "id": "d5e83657-ea8c-4a9f-b719-342adb429b67",
   "metadata": {},
   "outputs": [],
   "source": [
    "df1 = pd.read_csv('Data/Hotel_details.csv')\n",
    "df2 = pd.read_csv('Data/Hotel_Room_attributes.csv')\n",
    "df3 = pd.read_csv('Data/hotel_price_min_max - Formula.csv')\n",
    "df4 = pd.read_csv('Data/hotels_RoomPrice.csv')"
   ]
  },
  {
   "cell_type": "code",
   "execution_count": 3,
   "id": "eba5982d-491e-4875-a906-d1a6ce4d6e81",
   "metadata": {},
   "outputs": [
    {
     "data": {
      "text/html": [
       "<div>\n",
       "<style scoped>\n",
       "    .dataframe tbody tr th:only-of-type {\n",
       "        vertical-align: middle;\n",
       "    }\n",
       "\n",
       "    .dataframe tbody tr th {\n",
       "        vertical-align: top;\n",
       "    }\n",
       "\n",
       "    .dataframe thead th {\n",
       "        text-align: right;\n",
       "    }\n",
       "</style>\n",
       "<table border=\"1\" class=\"dataframe\">\n",
       "  <thead>\n",
       "    <tr style=\"text-align: right;\">\n",
       "      <th></th>\n",
       "      <th>id</th>\n",
       "      <th>hotelid</th>\n",
       "      <th>hotelname</th>\n",
       "      <th>address</th>\n",
       "      <th>city</th>\n",
       "      <th>country</th>\n",
       "      <th>zipcode</th>\n",
       "      <th>propertytype</th>\n",
       "      <th>starrating</th>\n",
       "      <th>latitude</th>\n",
       "      <th>longitude</th>\n",
       "      <th>Source</th>\n",
       "      <th>url</th>\n",
       "      <th>curr</th>\n",
       "    </tr>\n",
       "  </thead>\n",
       "  <tbody>\n",
       "    <tr>\n",
       "      <th>0</th>\n",
       "      <td>46406</td>\n",
       "      <td>1771651</td>\n",
       "      <td>Mediteran Bungalow Galeb</td>\n",
       "      <td>Vukovarska 7</td>\n",
       "      <td>Omis</td>\n",
       "      <td>Croatia</td>\n",
       "      <td>21310.0</td>\n",
       "      <td>Holiday parks</td>\n",
       "      <td>4</td>\n",
       "      <td>43.440124</td>\n",
       "      <td>16.682505</td>\n",
       "      <td>2</td>\n",
       "      <td>https://www.booking.com/hotel/hr/bungalow-luxu...</td>\n",
       "      <td>EUR</td>\n",
       "    </tr>\n",
       "    <tr>\n",
       "      <th>1</th>\n",
       "      <td>46407</td>\n",
       "      <td>177167</td>\n",
       "      <td>Hotel Polonia</td>\n",
       "      <td>Plac Teatralny 5</td>\n",
       "      <td>Torun</td>\n",
       "      <td>Poland</td>\n",
       "      <td>NaN</td>\n",
       "      <td>Hotels</td>\n",
       "      <td>3</td>\n",
       "      <td>53.012329</td>\n",
       "      <td>18.603800</td>\n",
       "      <td>5</td>\n",
       "      <td>https://www.agoda.com/en-gb/hotel-polonia/hote...</td>\n",
       "      <td>EUR</td>\n",
       "    </tr>\n",
       "    <tr>\n",
       "      <th>2</th>\n",
       "      <td>46408</td>\n",
       "      <td>1771675</td>\n",
       "      <td>Rifugio Sass Bece</td>\n",
       "      <td>Belvedere del Pordoi,1</td>\n",
       "      <td>Canazei</td>\n",
       "      <td>Italy</td>\n",
       "      <td>38032.0</td>\n",
       "      <td>Hotels</td>\n",
       "      <td>3</td>\n",
       "      <td>46.477920</td>\n",
       "      <td>11.813350</td>\n",
       "      <td>2</td>\n",
       "      <td>http://www.booking.com/hotel/it/rifugio-sass-b...</td>\n",
       "      <td>EUR</td>\n",
       "    </tr>\n",
       "    <tr>\n",
       "      <th>3</th>\n",
       "      <td>46409</td>\n",
       "      <td>177168</td>\n",
       "      <td>Madalena Hotel</td>\n",
       "      <td>Mykonos</td>\n",
       "      <td>Mykonos</td>\n",
       "      <td>Greece</td>\n",
       "      <td>84600.0</td>\n",
       "      <td>Hotels</td>\n",
       "      <td>3</td>\n",
       "      <td>37.452316</td>\n",
       "      <td>25.329849</td>\n",
       "      <td>5</td>\n",
       "      <td>https://www.agoda.com/en-gb/madalena-hotel/hot...</td>\n",
       "      <td>EUR</td>\n",
       "    </tr>\n",
       "    <tr>\n",
       "      <th>4</th>\n",
       "      <td>46410</td>\n",
       "      <td>1771718</td>\n",
       "      <td>Pension Morenfeld</td>\n",
       "      <td>Mair im Korn Strasse 2</td>\n",
       "      <td>Lagundo</td>\n",
       "      <td>Italy</td>\n",
       "      <td>39022.0</td>\n",
       "      <td>Hotels</td>\n",
       "      <td>3</td>\n",
       "      <td>46.682780</td>\n",
       "      <td>11.131736</td>\n",
       "      <td>2</td>\n",
       "      <td>http://www.booking.com/hotel/it/pension-morenf...</td>\n",
       "      <td>EUR</td>\n",
       "    </tr>\n",
       "  </tbody>\n",
       "</table>\n",
       "</div>"
      ],
      "text/plain": [
       "      id  hotelid                 hotelname                 address     city  \\\n",
       "0  46406  1771651  Mediteran Bungalow Galeb            Vukovarska 7     Omis   \n",
       "1  46407   177167             Hotel Polonia        Plac Teatralny 5    Torun   \n",
       "2  46408  1771675         Rifugio Sass Bece  Belvedere del Pordoi,1  Canazei   \n",
       "3  46409   177168            Madalena Hotel                 Mykonos  Mykonos   \n",
       "4  46410  1771718         Pension Morenfeld  Mair im Korn Strasse 2  Lagundo   \n",
       "\n",
       "   country  zipcode   propertytype  starrating   latitude  longitude  Source  \\\n",
       "0  Croatia  21310.0  Holiday parks           4  43.440124  16.682505       2   \n",
       "1   Poland      NaN         Hotels           3  53.012329  18.603800       5   \n",
       "2    Italy  38032.0         Hotels           3  46.477920  11.813350       2   \n",
       "3   Greece  84600.0         Hotels           3  37.452316  25.329849       5   \n",
       "4    Italy  39022.0         Hotels           3  46.682780  11.131736       2   \n",
       "\n",
       "                                                 url curr  \n",
       "0  https://www.booking.com/hotel/hr/bungalow-luxu...  EUR  \n",
       "1  https://www.agoda.com/en-gb/hotel-polonia/hote...  EUR  \n",
       "2  http://www.booking.com/hotel/it/rifugio-sass-b...  EUR  \n",
       "3  https://www.agoda.com/en-gb/madalena-hotel/hot...  EUR  \n",
       "4  http://www.booking.com/hotel/it/pension-morenf...  EUR  "
      ]
     },
     "execution_count": 3,
     "metadata": {},
     "output_type": "execute_result"
    }
   ],
   "source": [
    "df1.head()"
   ]
  },
  {
   "cell_type": "code",
   "execution_count": 4,
   "id": "eebadf43-15f7-4039-9f86-f7403e5f1a87",
   "metadata": {},
   "outputs": [
    {
     "data": {
      "text/plain": [
       "0         https://www.booking.com/hotel/hr/bungalow-luxu...\n",
       "1         https://www.agoda.com/en-gb/hotel-polonia/hote...\n",
       "2         http://www.booking.com/hotel/it/rifugio-sass-b...\n",
       "3         https://www.agoda.com/en-gb/madalena-hotel/hot...\n",
       "4         http://www.booking.com/hotel/it/pension-morenf...\n",
       "                                ...                        \n",
       "108043    http://www.booking.com/hotel/de/stadt-tuttling...\n",
       "108044     http://www.booking.com/hotel/bg/beroe.en-gb.html\n",
       "108045    http://www.booking.com/hotel/bg/rothmans-bansk...\n",
       "108046    https://www.booking.com/hotel/bg/rainbow-4-bou...\n",
       "108047    http://www.booking.com/hotel/bg/rainbow-2-caca...\n",
       "Name: url, Length: 108048, dtype: object"
      ]
     },
     "execution_count": 4,
     "metadata": {},
     "output_type": "execute_result"
    }
   ],
   "source": [
    "df1['url']"
   ]
  },
  {
   "cell_type": "code",
   "execution_count": 5,
   "id": "a8c55842-bcb6-4cae-bb9a-183f02a01262",
   "metadata": {},
   "outputs": [
    {
     "data": {
      "text/html": [
       "<div>\n",
       "<style scoped>\n",
       "    .dataframe tbody tr th:only-of-type {\n",
       "        vertical-align: middle;\n",
       "    }\n",
       "\n",
       "    .dataframe tbody tr th {\n",
       "        vertical-align: top;\n",
       "    }\n",
       "\n",
       "    .dataframe thead th {\n",
       "        text-align: right;\n",
       "    }\n",
       "</style>\n",
       "<table border=\"1\" class=\"dataframe\">\n",
       "  <thead>\n",
       "    <tr style=\"text-align: right;\">\n",
       "      <th></th>\n",
       "      <th>id</th>\n",
       "      <th>hotelcode</th>\n",
       "      <th>roomamenities</th>\n",
       "      <th>roomtype</th>\n",
       "      <th>ratedescription</th>\n",
       "    </tr>\n",
       "  </thead>\n",
       "  <tbody>\n",
       "    <tr>\n",
       "      <th>0</th>\n",
       "      <td>50677497</td>\n",
       "      <td>634876</td>\n",
       "      <td>Air conditioning: ;Alarm clock: ;Carpeting: ;C...</td>\n",
       "      <td>Double Room</td>\n",
       "      <td>Room size: 15 m²/161 ft², Shower, 1 king bed</td>\n",
       "    </tr>\n",
       "    <tr>\n",
       "      <th>1</th>\n",
       "      <td>50672149</td>\n",
       "      <td>8328096</td>\n",
       "      <td>Air conditioning: ;Closet: ;Fireplace: ;Free W...</td>\n",
       "      <td>Vacation Home</td>\n",
       "      <td>Shower, Kitchenette, 2 bedrooms, 1 double bed ...</td>\n",
       "    </tr>\n",
       "    <tr>\n",
       "      <th>2</th>\n",
       "      <td>50643430</td>\n",
       "      <td>8323442</td>\n",
       "      <td>Air conditioning: ;Closet: ;Dishwasher: ;Firep...</td>\n",
       "      <td>Vacation Home</td>\n",
       "      <td>Shower, Kitchenette, 2 bedrooms, 1 double bed ...</td>\n",
       "    </tr>\n",
       "    <tr>\n",
       "      <th>3</th>\n",
       "      <td>50650317</td>\n",
       "      <td>7975</td>\n",
       "      <td>Air conditioning: ;Clothes rack: ;Coffee/tea m...</td>\n",
       "      <td>Standard Triple Room</td>\n",
       "      <td>Room size: 20 m²/215 ft², Shower, 3 single beds</td>\n",
       "    </tr>\n",
       "    <tr>\n",
       "      <th>4</th>\n",
       "      <td>50650318</td>\n",
       "      <td>7975</td>\n",
       "      <td>Air conditioning: ;Clothes rack: ;Coffee/tea m...</td>\n",
       "      <td>Standard Triple Room</td>\n",
       "      <td>Room size: 20 m²/215 ft², Shower, 3 single beds</td>\n",
       "    </tr>\n",
       "  </tbody>\n",
       "</table>\n",
       "</div>"
      ],
      "text/plain": [
       "         id  hotelcode                                      roomamenities  \\\n",
       "0  50677497     634876  Air conditioning: ;Alarm clock: ;Carpeting: ;C...   \n",
       "1  50672149    8328096  Air conditioning: ;Closet: ;Fireplace: ;Free W...   \n",
       "2  50643430    8323442  Air conditioning: ;Closet: ;Dishwasher: ;Firep...   \n",
       "3  50650317       7975  Air conditioning: ;Clothes rack: ;Coffee/tea m...   \n",
       "4  50650318       7975  Air conditioning: ;Clothes rack: ;Coffee/tea m...   \n",
       "\n",
       "               roomtype                                    ratedescription  \n",
       "0           Double Room       Room size: 15 m²/161 ft², Shower, 1 king bed  \n",
       "1         Vacation Home  Shower, Kitchenette, 2 bedrooms, 1 double bed ...  \n",
       "2         Vacation Home  Shower, Kitchenette, 2 bedrooms, 1 double bed ...  \n",
       "3  Standard Triple Room    Room size: 20 m²/215 ft², Shower, 3 single beds  \n",
       "4  Standard Triple Room    Room size: 20 m²/215 ft², Shower, 3 single beds  "
      ]
     },
     "execution_count": 5,
     "metadata": {},
     "output_type": "execute_result"
    }
   ],
   "source": [
    "df2.head()"
   ]
  },
  {
   "cell_type": "markdown",
   "id": "5a465008-ae29-4e44-9521-e823ca59dbeb",
   "metadata": {},
   "source": [
    "## Quick Data Check"
   ]
  },
  {
   "cell_type": "code",
   "execution_count": 6,
   "id": "691ebeec-301e-441f-9025-7d0f30d1f375",
   "metadata": {},
   "outputs": [],
   "source": [
    "df2.rename(columns = {'hotelcode':'hotelid'},inplace = True)"
   ]
  },
  {
   "cell_type": "code",
   "execution_count": 7,
   "id": "bcc6403b-6085-4291-8dcb-02c34e44901c",
   "metadata": {},
   "outputs": [],
   "source": [
    "df_new = df2.merge(df1,on = 'hotelid')"
   ]
  },
  {
   "cell_type": "code",
   "execution_count": 8,
   "id": "21a4458b-8bb2-41a4-a6c7-09837c41a127",
   "metadata": {},
   "outputs": [
    {
     "data": {
      "text/html": [
       "<div>\n",
       "<style scoped>\n",
       "    .dataframe tbody tr th:only-of-type {\n",
       "        vertical-align: middle;\n",
       "    }\n",
       "\n",
       "    .dataframe tbody tr th {\n",
       "        vertical-align: top;\n",
       "    }\n",
       "\n",
       "    .dataframe thead th {\n",
       "        text-align: right;\n",
       "    }\n",
       "</style>\n",
       "<table border=\"1\" class=\"dataframe\">\n",
       "  <thead>\n",
       "    <tr style=\"text-align: right;\">\n",
       "      <th></th>\n",
       "      <th>id_x</th>\n",
       "      <th>hotelid</th>\n",
       "      <th>roomamenities</th>\n",
       "      <th>roomtype</th>\n",
       "      <th>ratedescription</th>\n",
       "      <th>id_y</th>\n",
       "      <th>hotelname</th>\n",
       "      <th>address</th>\n",
       "      <th>city</th>\n",
       "      <th>country</th>\n",
       "      <th>zipcode</th>\n",
       "      <th>propertytype</th>\n",
       "      <th>starrating</th>\n",
       "      <th>latitude</th>\n",
       "      <th>longitude</th>\n",
       "      <th>Source</th>\n",
       "      <th>url</th>\n",
       "      <th>curr</th>\n",
       "    </tr>\n",
       "  </thead>\n",
       "  <tbody>\n",
       "    <tr>\n",
       "      <th>0</th>\n",
       "      <td>50677497</td>\n",
       "      <td>634876</td>\n",
       "      <td>Air conditioning: ;Alarm clock: ;Carpeting: ;C...</td>\n",
       "      <td>Double Room</td>\n",
       "      <td>Room size: 15 m²/161 ft², Shower, 1 king bed</td>\n",
       "      <td>135972</td>\n",
       "      <td>The Old Cider House</td>\n",
       "      <td>25 Castle Street</td>\n",
       "      <td>Nether Stowey</td>\n",
       "      <td>United Kingdom</td>\n",
       "      <td>NaN</td>\n",
       "      <td>Hotels</td>\n",
       "      <td>4</td>\n",
       "      <td>51.150921</td>\n",
       "      <td>-3.158470</td>\n",
       "      <td>5</td>\n",
       "      <td>https://www.agoda.com/en-gb/the-old-cider-hous...</td>\n",
       "      <td>GBP</td>\n",
       "    </tr>\n",
       "    <tr>\n",
       "      <th>1</th>\n",
       "      <td>50672149</td>\n",
       "      <td>8328096</td>\n",
       "      <td>Air conditioning: ;Closet: ;Fireplace: ;Free W...</td>\n",
       "      <td>Vacation Home</td>\n",
       "      <td>Shower, Kitchenette, 2 bedrooms, 1 double bed ...</td>\n",
       "      <td>66727</td>\n",
       "      <td>Pantlleni</td>\n",
       "      <td>NaN</td>\n",
       "      <td>Beddgelert</td>\n",
       "      <td>United Kingdom</td>\n",
       "      <td>NaN</td>\n",
       "      <td>Hotels</td>\n",
       "      <td>3</td>\n",
       "      <td>53.042229</td>\n",
       "      <td>-4.033180</td>\n",
       "      <td>5</td>\n",
       "      <td>https://www.agoda.com/en-gb/pantlleni/hotel/be...</td>\n",
       "      <td>GBP</td>\n",
       "    </tr>\n",
       "    <tr>\n",
       "      <th>2</th>\n",
       "      <td>50643430</td>\n",
       "      <td>8323442</td>\n",
       "      <td>Air conditioning: ;Closet: ;Dishwasher: ;Firep...</td>\n",
       "      <td>Vacation Home</td>\n",
       "      <td>Shower, Kitchenette, 2 bedrooms, 1 double bed ...</td>\n",
       "      <td>65369</td>\n",
       "      <td>Willow Cottage</td>\n",
       "      <td>NaN</td>\n",
       "      <td>Beverley</td>\n",
       "      <td>United Kingdom</td>\n",
       "      <td>NaN</td>\n",
       "      <td>Hotels</td>\n",
       "      <td>3</td>\n",
       "      <td>53.843220</td>\n",
       "      <td>-0.497970</td>\n",
       "      <td>5</td>\n",
       "      <td>https://www.agoda.com/en-gb/willow-cottage/hot...</td>\n",
       "      <td>GBP</td>\n",
       "    </tr>\n",
       "    <tr>\n",
       "      <th>3</th>\n",
       "      <td>50650317</td>\n",
       "      <td>7975</td>\n",
       "      <td>Air conditioning: ;Clothes rack: ;Coffee/tea m...</td>\n",
       "      <td>Standard Triple Room</td>\n",
       "      <td>Room size: 20 m²/215 ft², Shower, 3 single beds</td>\n",
       "      <td>60309</td>\n",
       "      <td>Apollo Hotel London</td>\n",
       "      <td>64-66 Queensborough Terrace</td>\n",
       "      <td>London</td>\n",
       "      <td>United Kingdom</td>\n",
       "      <td>NaN</td>\n",
       "      <td>Hotels</td>\n",
       "      <td>2</td>\n",
       "      <td>51.511234</td>\n",
       "      <td>-0.185117</td>\n",
       "      <td>5</td>\n",
       "      <td>https://www.agoda.com/en-gb/apollo-hotel-londo...</td>\n",
       "      <td>GBP</td>\n",
       "    </tr>\n",
       "    <tr>\n",
       "      <th>4</th>\n",
       "      <td>50650318</td>\n",
       "      <td>7975</td>\n",
       "      <td>Air conditioning: ;Clothes rack: ;Coffee/tea m...</td>\n",
       "      <td>Standard Triple Room</td>\n",
       "      <td>Room size: 20 m²/215 ft², Shower, 3 single beds</td>\n",
       "      <td>60309</td>\n",
       "      <td>Apollo Hotel London</td>\n",
       "      <td>64-66 Queensborough Terrace</td>\n",
       "      <td>London</td>\n",
       "      <td>United Kingdom</td>\n",
       "      <td>NaN</td>\n",
       "      <td>Hotels</td>\n",
       "      <td>2</td>\n",
       "      <td>51.511234</td>\n",
       "      <td>-0.185117</td>\n",
       "      <td>5</td>\n",
       "      <td>https://www.agoda.com/en-gb/apollo-hotel-londo...</td>\n",
       "      <td>GBP</td>\n",
       "    </tr>\n",
       "  </tbody>\n",
       "</table>\n",
       "</div>"
      ],
      "text/plain": [
       "       id_x  hotelid                                      roomamenities  \\\n",
       "0  50677497   634876  Air conditioning: ;Alarm clock: ;Carpeting: ;C...   \n",
       "1  50672149  8328096  Air conditioning: ;Closet: ;Fireplace: ;Free W...   \n",
       "2  50643430  8323442  Air conditioning: ;Closet: ;Dishwasher: ;Firep...   \n",
       "3  50650317     7975  Air conditioning: ;Clothes rack: ;Coffee/tea m...   \n",
       "4  50650318     7975  Air conditioning: ;Clothes rack: ;Coffee/tea m...   \n",
       "\n",
       "               roomtype                                    ratedescription  \\\n",
       "0           Double Room       Room size: 15 m²/161 ft², Shower, 1 king bed   \n",
       "1         Vacation Home  Shower, Kitchenette, 2 bedrooms, 1 double bed ...   \n",
       "2         Vacation Home  Shower, Kitchenette, 2 bedrooms, 1 double bed ...   \n",
       "3  Standard Triple Room    Room size: 20 m²/215 ft², Shower, 3 single beds   \n",
       "4  Standard Triple Room    Room size: 20 m²/215 ft², Shower, 3 single beds   \n",
       "\n",
       "     id_y            hotelname                      address           city  \\\n",
       "0  135972  The Old Cider House             25 Castle Street  Nether Stowey   \n",
       "1   66727            Pantlleni                          NaN     Beddgelert   \n",
       "2   65369       Willow Cottage                          NaN       Beverley   \n",
       "3   60309  Apollo Hotel London  64-66 Queensborough Terrace         London   \n",
       "4   60309  Apollo Hotel London  64-66 Queensborough Terrace         London   \n",
       "\n",
       "          country  zipcode propertytype  starrating   latitude  longitude  \\\n",
       "0  United Kingdom      NaN       Hotels           4  51.150921  -3.158470   \n",
       "1  United Kingdom      NaN       Hotels           3  53.042229  -4.033180   \n",
       "2  United Kingdom      NaN       Hotels           3  53.843220  -0.497970   \n",
       "3  United Kingdom      NaN       Hotels           2  51.511234  -0.185117   \n",
       "4  United Kingdom      NaN       Hotels           2  51.511234  -0.185117   \n",
       "\n",
       "   Source                                                url curr  \n",
       "0       5  https://www.agoda.com/en-gb/the-old-cider-hous...  GBP  \n",
       "1       5  https://www.agoda.com/en-gb/pantlleni/hotel/be...  GBP  \n",
       "2       5  https://www.agoda.com/en-gb/willow-cottage/hot...  GBP  \n",
       "3       5  https://www.agoda.com/en-gb/apollo-hotel-londo...  GBP  \n",
       "4       5  https://www.agoda.com/en-gb/apollo-hotel-londo...  GBP  "
      ]
     },
     "execution_count": 8,
     "metadata": {},
     "output_type": "execute_result"
    }
   ],
   "source": [
    "df_new.head()"
   ]
  },
  {
   "cell_type": "code",
   "execution_count": 9,
   "id": "397d48bf-f6ef-44df-8a41-abd08cb3f13e",
   "metadata": {},
   "outputs": [
    {
     "data": {
      "text/plain": [
       "(181415, 18)"
      ]
     },
     "execution_count": 9,
     "metadata": {},
     "output_type": "execute_result"
    }
   ],
   "source": [
    "df_new.shape"
   ]
  },
  {
   "cell_type": "code",
   "execution_count": 10,
   "id": "c66da03a-6e1f-4a06-9508-8ebb867345bc",
   "metadata": {},
   "outputs": [
    {
     "data": {
      "text/plain": [
       "id_x                   0\n",
       "hotelid                0\n",
       "roomamenities       5309\n",
       "roomtype               0\n",
       "ratedescription     5309\n",
       "id_y                   0\n",
       "hotelname              0\n",
       "address              577\n",
       "city                   0\n",
       "country                0\n",
       "zipcode            86703\n",
       "propertytype           0\n",
       "starrating             0\n",
       "latitude               0\n",
       "longitude              0\n",
       "Source                 0\n",
       "url                    0\n",
       "curr                   0\n",
       "dtype: int64"
      ]
     },
     "execution_count": 10,
     "metadata": {},
     "output_type": "execute_result"
    }
   ],
   "source": [
    "df_new.isna().sum()"
   ]
  },
  {
   "cell_type": "code",
   "execution_count": 11,
   "id": "ff1d4ed4-f985-470f-a0ad-adfed082837a",
   "metadata": {},
   "outputs": [
    {
     "data": {
      "text/plain": [
       "0"
      ]
     },
     "execution_count": 11,
     "metadata": {},
     "output_type": "execute_result"
    }
   ],
   "source": [
    "df_new.duplicated().sum()"
   ]
  },
  {
   "cell_type": "code",
   "execution_count": 12,
   "id": "533c2eec-112d-44b5-8d43-f718d00d4f0c",
   "metadata": {},
   "outputs": [],
   "source": [
    "df_new.drop(['zipcode'],axis = 1,inplace = True)"
   ]
  },
  {
   "cell_type": "code",
   "execution_count": 13,
   "id": "75f8a35e-42de-4fcc-9149-3a5f474d649a",
   "metadata": {},
   "outputs": [],
   "source": [
    "df_new.dropna(inplace = True)"
   ]
  },
  {
   "cell_type": "code",
   "execution_count": 14,
   "id": "88ca60ae-fb58-4f07-9cf5-ca47dc5adc3f",
   "metadata": {},
   "outputs": [
    {
     "data": {
      "text/plain": [
       "(175529, 17)"
      ]
     },
     "execution_count": 14,
     "metadata": {},
     "output_type": "execute_result"
    }
   ],
   "source": [
    "df_new.shape"
   ]
  },
  {
   "cell_type": "code",
   "execution_count": 15,
   "id": "a77c61a4-41fe-4bb9-b22d-e0f1c3c03935",
   "metadata": {},
   "outputs": [],
   "source": [
    "df3.rename(columns  = {'hotelcode':'hotelid'},inplace = True)"
   ]
  },
  {
   "cell_type": "code",
   "execution_count": 16,
   "id": "3a521060-ce74-4351-8f75-f90af9d9c789",
   "metadata": {},
   "outputs": [],
   "source": [
    "pd.set_option('display.max_columns',30)"
   ]
  },
  {
   "cell_type": "code",
   "execution_count": 17,
   "id": "681ac90f-9cff-4b4b-9192-5dfcd04b0455",
   "metadata": {},
   "outputs": [
    {
     "data": {
      "text/html": [
       "<div>\n",
       "<style scoped>\n",
       "    .dataframe tbody tr th:only-of-type {\n",
       "        vertical-align: middle;\n",
       "    }\n",
       "\n",
       "    .dataframe tbody tr th {\n",
       "        vertical-align: top;\n",
       "    }\n",
       "\n",
       "    .dataframe thead th {\n",
       "        text-align: right;\n",
       "    }\n",
       "</style>\n",
       "<table border=\"1\" class=\"dataframe\">\n",
       "  <thead>\n",
       "    <tr style=\"text-align: right;\">\n",
       "      <th></th>\n",
       "      <th>id</th>\n",
       "      <th>refid</th>\n",
       "      <th>hotelcode</th>\n",
       "      <th>websitecode</th>\n",
       "      <th>dtcollected</th>\n",
       "      <th>ratedate</th>\n",
       "      <th>los</th>\n",
       "      <th>guests</th>\n",
       "      <th>roomtype</th>\n",
       "      <th>onsiterate</th>\n",
       "      <th>netrate</th>\n",
       "      <th>currency</th>\n",
       "      <th>ratedescription</th>\n",
       "      <th>ratetype</th>\n",
       "      <th>sourceurl</th>\n",
       "      <th>roomamenities</th>\n",
       "      <th>maxoccupancy</th>\n",
       "      <th>ispromo</th>\n",
       "      <th>closed</th>\n",
       "      <th>discount</th>\n",
       "      <th>promoname</th>\n",
       "      <th>status_code</th>\n",
       "      <th>taxstatus</th>\n",
       "      <th>taxtype</th>\n",
       "      <th>taxamount</th>\n",
       "      <th>proxyused</th>\n",
       "      <th>israteperstay</th>\n",
       "      <th>mealinclusiontype</th>\n",
       "      <th>hotelblock</th>\n",
       "      <th>input_dtcollected</th>\n",
       "    </tr>\n",
       "  </thead>\n",
       "  <tbody>\n",
       "    <tr>\n",
       "      <th>0</th>\n",
       "      <td>50677497</td>\n",
       "      <td>8646773</td>\n",
       "      <td>634876</td>\n",
       "      <td>5</td>\n",
       "      <td>2019-10-12 15:46:54</td>\n",
       "      <td>2019-11-02</td>\n",
       "      <td>1</td>\n",
       "      <td>1</td>\n",
       "      <td>Double Room</td>\n",
       "      <td>82.36</td>\n",
       "      <td>87.84</td>\n",
       "      <td>USD</td>\n",
       "      <td>Room size: 15 m²/161 ft², Shower, 1 king bed</td>\n",
       "      <td>Cancellation policy</td>\n",
       "      <td>https://www.agoda.com/en-gb/the-old-cider-hous...</td>\n",
       "      <td>Air conditioning: ;Alarm clock: ;Carpeting: ;C...</td>\n",
       "      <td>1</td>\n",
       "      <td>Y</td>\n",
       "      <td>N</td>\n",
       "      <td>6.24</td>\n",
       "      <td>NaN</td>\n",
       "      <td>200</td>\n",
       "      <td>2</td>\n",
       "      <td>NaN</td>\n",
       "      <td>0.0</td>\n",
       "      <td>media:M3diAproxy@173.44.165.126:80</td>\n",
       "      <td>Y</td>\n",
       "      <td>Free Breakfast</td>\n",
       "      <td>NaN</td>\n",
       "      <td>2019-10-13</td>\n",
       "    </tr>\n",
       "    <tr>\n",
       "      <th>1</th>\n",
       "      <td>50672149</td>\n",
       "      <td>6234691</td>\n",
       "      <td>8328096</td>\n",
       "      <td>5</td>\n",
       "      <td>2019-10-12 15:47:45</td>\n",
       "      <td>2019-11-30</td>\n",
       "      <td>1</td>\n",
       "      <td>1</td>\n",
       "      <td>Vacation Home</td>\n",
       "      <td>636.09</td>\n",
       "      <td>0.00</td>\n",
       "      <td>USD</td>\n",
       "      <td>Shower, Kitchenette, 2 bedrooms, 1 double bed ...</td>\n",
       "      <td>Cancellation policy</td>\n",
       "      <td>https://www.agoda.com/en-gb/pantlleni/hotel/be...</td>\n",
       "      <td>Air conditioning: ;Closet: ;Fireplace: ;Free W...</td>\n",
       "      <td>4</td>\n",
       "      <td>N</td>\n",
       "      <td>N</td>\n",
       "      <td>0.00</td>\n",
       "      <td>NaN</td>\n",
       "      <td>200</td>\n",
       "      <td>2</td>\n",
       "      <td>NaN</td>\n",
       "      <td>0.0</td>\n",
       "      <td>media:M3diAproxy@173.44.164.126:80</td>\n",
       "      <td>Y</td>\n",
       "      <td>NaN</td>\n",
       "      <td>NaN</td>\n",
       "      <td>2019-10-13</td>\n",
       "    </tr>\n",
       "    <tr>\n",
       "      <th>2</th>\n",
       "      <td>50643430</td>\n",
       "      <td>7015677</td>\n",
       "      <td>8323442</td>\n",
       "      <td>5</td>\n",
       "      <td>2019-10-12 15:47:00</td>\n",
       "      <td>2019-12-20</td>\n",
       "      <td>1</td>\n",
       "      <td>1</td>\n",
       "      <td>Vacation Home</td>\n",
       "      <td>591.74</td>\n",
       "      <td>0.00</td>\n",
       "      <td>USD</td>\n",
       "      <td>Shower, Kitchenette, 2 bedrooms, 1 double bed ...</td>\n",
       "      <td>Extra low price! (non-refundable)</td>\n",
       "      <td>https://www.agoda.com/en-gb/willow-cottage/hot...</td>\n",
       "      <td>Air conditioning: ;Closet: ;Dishwasher: ;Firep...</td>\n",
       "      <td>4</td>\n",
       "      <td>N</td>\n",
       "      <td>N</td>\n",
       "      <td>0.00</td>\n",
       "      <td>NaN</td>\n",
       "      <td>200</td>\n",
       "      <td>2</td>\n",
       "      <td>NaN</td>\n",
       "      <td>0.0</td>\n",
       "      <td>media:M3diAproxy@173.44.166.122:80</td>\n",
       "      <td>Y</td>\n",
       "      <td>NaN</td>\n",
       "      <td>NaN</td>\n",
       "      <td>2019-10-13</td>\n",
       "    </tr>\n",
       "    <tr>\n",
       "      <th>3</th>\n",
       "      <td>50650317</td>\n",
       "      <td>7327094</td>\n",
       "      <td>7975</td>\n",
       "      <td>5</td>\n",
       "      <td>2019-10-12 15:47:02</td>\n",
       "      <td>2019-12-28</td>\n",
       "      <td>1</td>\n",
       "      <td>1</td>\n",
       "      <td>Standard Triple Room</td>\n",
       "      <td>881.48</td>\n",
       "      <td>0.00</td>\n",
       "      <td>USD</td>\n",
       "      <td>Room size: 20 m²/215 ft², Shower, 3 single beds</td>\n",
       "      <td>Extra low price! (non-refundable)</td>\n",
       "      <td>https://www.agoda.com/en-gb/apollo-hotel-londo...</td>\n",
       "      <td>Air conditioning: ;Clothes rack: ;Coffee/tea m...</td>\n",
       "      <td>1</td>\n",
       "      <td>N</td>\n",
       "      <td>N</td>\n",
       "      <td>0.00</td>\n",
       "      <td>NaN</td>\n",
       "      <td>200</td>\n",
       "      <td>2</td>\n",
       "      <td>Tax 20%</td>\n",
       "      <td>0.0</td>\n",
       "      <td>media:M3diAproxy@209.242.219.141:80</td>\n",
       "      <td>Y</td>\n",
       "      <td>NaN</td>\n",
       "      <td>NaN</td>\n",
       "      <td>2019-10-13</td>\n",
       "    </tr>\n",
       "    <tr>\n",
       "      <th>4</th>\n",
       "      <td>50650318</td>\n",
       "      <td>7327094</td>\n",
       "      <td>7975</td>\n",
       "      <td>5</td>\n",
       "      <td>2019-10-12 15:47:02</td>\n",
       "      <td>2019-12-28</td>\n",
       "      <td>1</td>\n",
       "      <td>1</td>\n",
       "      <td>Standard Triple Room</td>\n",
       "      <td>897.53</td>\n",
       "      <td>0.00</td>\n",
       "      <td>USD</td>\n",
       "      <td>Room size: 20 m²/215 ft², Shower, 3 single beds</td>\n",
       "      <td>Extra low price! (non-refundable)</td>\n",
       "      <td>https://www.agoda.com/en-gb/apollo-hotel-londo...</td>\n",
       "      <td>Air conditioning: ;Clothes rack: ;Coffee/tea m...</td>\n",
       "      <td>3</td>\n",
       "      <td>N</td>\n",
       "      <td>N</td>\n",
       "      <td>0.00</td>\n",
       "      <td>NaN</td>\n",
       "      <td>200</td>\n",
       "      <td>2</td>\n",
       "      <td>VAT $ 179.51</td>\n",
       "      <td>0.0</td>\n",
       "      <td>media:M3diAproxy@209.242.219.141:80</td>\n",
       "      <td>Y</td>\n",
       "      <td>Free breakfast for {3}</td>\n",
       "      <td>NaN</td>\n",
       "      <td>2019-10-13</td>\n",
       "    </tr>\n",
       "  </tbody>\n",
       "</table>\n",
       "</div>"
      ],
      "text/plain": [
       "         id    refid  hotelcode  websitecode          dtcollected    ratedate  \\\n",
       "0  50677497  8646773     634876            5  2019-10-12 15:46:54  2019-11-02   \n",
       "1  50672149  6234691    8328096            5  2019-10-12 15:47:45  2019-11-30   \n",
       "2  50643430  7015677    8323442            5  2019-10-12 15:47:00  2019-12-20   \n",
       "3  50650317  7327094       7975            5  2019-10-12 15:47:02  2019-12-28   \n",
       "4  50650318  7327094       7975            5  2019-10-12 15:47:02  2019-12-28   \n",
       "\n",
       "   los  guests              roomtype  onsiterate  netrate currency  \\\n",
       "0    1       1           Double Room       82.36    87.84      USD   \n",
       "1    1       1         Vacation Home      636.09     0.00      USD   \n",
       "2    1       1         Vacation Home      591.74     0.00      USD   \n",
       "3    1       1  Standard Triple Room      881.48     0.00      USD   \n",
       "4    1       1  Standard Triple Room      897.53     0.00      USD   \n",
       "\n",
       "                                     ratedescription  \\\n",
       "0       Room size: 15 m²/161 ft², Shower, 1 king bed   \n",
       "1  Shower, Kitchenette, 2 bedrooms, 1 double bed ...   \n",
       "2  Shower, Kitchenette, 2 bedrooms, 1 double bed ...   \n",
       "3    Room size: 20 m²/215 ft², Shower, 3 single beds   \n",
       "4    Room size: 20 m²/215 ft², Shower, 3 single beds   \n",
       "\n",
       "                            ratetype  \\\n",
       "0                Cancellation policy   \n",
       "1                Cancellation policy   \n",
       "2  Extra low price! (non-refundable)   \n",
       "3  Extra low price! (non-refundable)   \n",
       "4  Extra low price! (non-refundable)   \n",
       "\n",
       "                                           sourceurl  \\\n",
       "0  https://www.agoda.com/en-gb/the-old-cider-hous...   \n",
       "1  https://www.agoda.com/en-gb/pantlleni/hotel/be...   \n",
       "2  https://www.agoda.com/en-gb/willow-cottage/hot...   \n",
       "3  https://www.agoda.com/en-gb/apollo-hotel-londo...   \n",
       "4  https://www.agoda.com/en-gb/apollo-hotel-londo...   \n",
       "\n",
       "                                       roomamenities  maxoccupancy ispromo  \\\n",
       "0  Air conditioning: ;Alarm clock: ;Carpeting: ;C...             1       Y   \n",
       "1  Air conditioning: ;Closet: ;Fireplace: ;Free W...             4       N   \n",
       "2  Air conditioning: ;Closet: ;Dishwasher: ;Firep...             4       N   \n",
       "3  Air conditioning: ;Clothes rack: ;Coffee/tea m...             1       N   \n",
       "4  Air conditioning: ;Clothes rack: ;Coffee/tea m...             3       N   \n",
       "\n",
       "  closed  discount promoname  status_code  taxstatus       taxtype  taxamount  \\\n",
       "0      N      6.24       NaN          200          2           NaN        0.0   \n",
       "1      N      0.00       NaN          200          2           NaN        0.0   \n",
       "2      N      0.00       NaN          200          2           NaN        0.0   \n",
       "3      N      0.00       NaN          200          2       Tax 20%        0.0   \n",
       "4      N      0.00       NaN          200          2  VAT $ 179.51        0.0   \n",
       "\n",
       "                             proxyused israteperstay       mealinclusiontype  \\\n",
       "0   media:M3diAproxy@173.44.165.126:80             Y          Free Breakfast   \n",
       "1   media:M3diAproxy@173.44.164.126:80             Y                     NaN   \n",
       "2   media:M3diAproxy@173.44.166.122:80             Y                     NaN   \n",
       "3  media:M3diAproxy@209.242.219.141:80             Y                     NaN   \n",
       "4  media:M3diAproxy@209.242.219.141:80             Y  Free breakfast for {3}   \n",
       "\n",
       "  hotelblock input_dtcollected  \n",
       "0        NaN        2019-10-13  \n",
       "1        NaN        2019-10-13  \n",
       "2        NaN        2019-10-13  \n",
       "3        NaN        2019-10-13  \n",
       "4        NaN        2019-10-13  "
      ]
     },
     "execution_count": 17,
     "metadata": {},
     "output_type": "execute_result"
    }
   ],
   "source": [
    "df4.head()"
   ]
  },
  {
   "cell_type": "code",
   "execution_count": 18,
   "id": "5d223d46-5929-415e-8a97-7f97bcc50212",
   "metadata": {},
   "outputs": [],
   "source": [
    "df6 = df_new.merge(df3,on = 'hotelid')"
   ]
  },
  {
   "cell_type": "code",
   "execution_count": 19,
   "id": "4719a64f-06cf-426c-ae50-afb506d888b1",
   "metadata": {},
   "outputs": [
    {
     "data": {
      "text/plain": [
       "0"
      ]
     },
     "execution_count": 19,
     "metadata": {},
     "output_type": "execute_result"
    }
   ],
   "source": [
    "df6.duplicated().sum()"
   ]
  },
  {
   "cell_type": "markdown",
   "id": "aeae99c2-7dee-4751-8b0d-6fab41ed0b96",
   "metadata": {},
   "source": [
    "### Finally we will be using df as our main dataframe"
   ]
  },
  {
   "cell_type": "code",
   "execution_count": 20,
   "id": "1e0cd205-4b5a-4fa7-8146-fa4cd73624cd",
   "metadata": {},
   "outputs": [],
   "source": [
    "df = df6"
   ]
  },
  {
   "cell_type": "code",
   "execution_count": 21,
   "id": "d08802f6-a68b-4ffc-af5c-2927f3906edc",
   "metadata": {},
   "outputs": [
    {
     "data": {
      "text/html": [
       "<div>\n",
       "<style scoped>\n",
       "    .dataframe tbody tr th:only-of-type {\n",
       "        vertical-align: middle;\n",
       "    }\n",
       "\n",
       "    .dataframe tbody tr th {\n",
       "        vertical-align: top;\n",
       "    }\n",
       "\n",
       "    .dataframe thead th {\n",
       "        text-align: right;\n",
       "    }\n",
       "</style>\n",
       "<table border=\"1\" class=\"dataframe\">\n",
       "  <thead>\n",
       "    <tr style=\"text-align: right;\">\n",
       "      <th></th>\n",
       "      <th>id_x</th>\n",
       "      <th>hotelid</th>\n",
       "      <th>roomamenities</th>\n",
       "      <th>roomtype</th>\n",
       "      <th>ratedescription</th>\n",
       "      <th>id_y</th>\n",
       "      <th>hotelname</th>\n",
       "      <th>address</th>\n",
       "      <th>city</th>\n",
       "      <th>country</th>\n",
       "      <th>propertytype</th>\n",
       "      <th>starrating</th>\n",
       "      <th>latitude</th>\n",
       "      <th>longitude</th>\n",
       "      <th>Source</th>\n",
       "      <th>url</th>\n",
       "      <th>curr</th>\n",
       "      <th>min</th>\n",
       "      <th>max</th>\n",
       "      <th>Diff_Min</th>\n",
       "      <th>Diff_Max</th>\n",
       "      <th>Score</th>\n",
       "    </tr>\n",
       "  </thead>\n",
       "  <tbody>\n",
       "    <tr>\n",
       "      <th>0</th>\n",
       "      <td>50677497</td>\n",
       "      <td>634876</td>\n",
       "      <td>Air conditioning: ;Alarm clock: ;Carpeting: ;C...</td>\n",
       "      <td>Double Room</td>\n",
       "      <td>Room size: 15 m²/161 ft², Shower, 1 king bed</td>\n",
       "      <td>135972</td>\n",
       "      <td>The Old Cider House</td>\n",
       "      <td>25 Castle Street</td>\n",
       "      <td>Nether Stowey</td>\n",
       "      <td>United Kingdom</td>\n",
       "      <td>Hotels</td>\n",
       "      <td>4</td>\n",
       "      <td>51.150921</td>\n",
       "      <td>-3.158470</td>\n",
       "      <td>5</td>\n",
       "      <td>https://www.agoda.com/en-gb/the-old-cider-hous...</td>\n",
       "      <td>GBP</td>\n",
       "      <td>82.36</td>\n",
       "      <td>107.70</td>\n",
       "      <td>0.084</td>\n",
       "      <td>0.418</td>\n",
       "      <td>0.25</td>\n",
       "    </tr>\n",
       "    <tr>\n",
       "      <th>1</th>\n",
       "      <td>50650317</td>\n",
       "      <td>7975</td>\n",
       "      <td>Air conditioning: ;Clothes rack: ;Coffee/tea m...</td>\n",
       "      <td>Standard Triple Room</td>\n",
       "      <td>Room size: 20 m²/215 ft², Shower, 3 single beds</td>\n",
       "      <td>60309</td>\n",
       "      <td>Apollo Hotel London</td>\n",
       "      <td>64-66 Queensborough Terrace</td>\n",
       "      <td>London</td>\n",
       "      <td>United Kingdom</td>\n",
       "      <td>Hotels</td>\n",
       "      <td>2</td>\n",
       "      <td>51.511234</td>\n",
       "      <td>-0.185117</td>\n",
       "      <td>5</td>\n",
       "      <td>https://www.agoda.com/en-gb/apollo-hotel-londo...</td>\n",
       "      <td>GBP</td>\n",
       "      <td>881.48</td>\n",
       "      <td>1055.92</td>\n",
       "      <td>7.540</td>\n",
       "      <td>2.821</td>\n",
       "      <td>5.18</td>\n",
       "    </tr>\n",
       "    <tr>\n",
       "      <th>2</th>\n",
       "      <td>50650318</td>\n",
       "      <td>7975</td>\n",
       "      <td>Air conditioning: ;Clothes rack: ;Coffee/tea m...</td>\n",
       "      <td>Standard Triple Room</td>\n",
       "      <td>Room size: 20 m²/215 ft², Shower, 3 single beds</td>\n",
       "      <td>60309</td>\n",
       "      <td>Apollo Hotel London</td>\n",
       "      <td>64-66 Queensborough Terrace</td>\n",
       "      <td>London</td>\n",
       "      <td>United Kingdom</td>\n",
       "      <td>Hotels</td>\n",
       "      <td>2</td>\n",
       "      <td>51.511234</td>\n",
       "      <td>-0.185117</td>\n",
       "      <td>5</td>\n",
       "      <td>https://www.agoda.com/en-gb/apollo-hotel-londo...</td>\n",
       "      <td>GBP</td>\n",
       "      <td>881.48</td>\n",
       "      <td>1055.92</td>\n",
       "      <td>7.540</td>\n",
       "      <td>2.821</td>\n",
       "      <td>5.18</td>\n",
       "    </tr>\n",
       "    <tr>\n",
       "      <th>3</th>\n",
       "      <td>50650319</td>\n",
       "      <td>7975</td>\n",
       "      <td>Air conditioning: ;Clothes rack: ;Coffee/tea m...</td>\n",
       "      <td>Standard Triple Room</td>\n",
       "      <td>Room size: 20 m²/215 ft², Shower, 3 single beds</td>\n",
       "      <td>60309</td>\n",
       "      <td>Apollo Hotel London</td>\n",
       "      <td>64-66 Queensborough Terrace</td>\n",
       "      <td>London</td>\n",
       "      <td>United Kingdom</td>\n",
       "      <td>Hotels</td>\n",
       "      <td>2</td>\n",
       "      <td>51.511234</td>\n",
       "      <td>-0.185117</td>\n",
       "      <td>5</td>\n",
       "      <td>https://www.agoda.com/en-gb/apollo-hotel-londo...</td>\n",
       "      <td>GBP</td>\n",
       "      <td>881.48</td>\n",
       "      <td>1055.92</td>\n",
       "      <td>7.540</td>\n",
       "      <td>2.821</td>\n",
       "      <td>5.18</td>\n",
       "    </tr>\n",
       "    <tr>\n",
       "      <th>4</th>\n",
       "      <td>50650320</td>\n",
       "      <td>7975</td>\n",
       "      <td>Air conditioning: ;Clothes rack: ;Heating: ;In...</td>\n",
       "      <td>Deluxe Triple Room</td>\n",
       "      <td>Shower, 1 single bed and 1 double bed</td>\n",
       "      <td>60309</td>\n",
       "      <td>Apollo Hotel London</td>\n",
       "      <td>64-66 Queensborough Terrace</td>\n",
       "      <td>London</td>\n",
       "      <td>United Kingdom</td>\n",
       "      <td>Hotels</td>\n",
       "      <td>2</td>\n",
       "      <td>51.511234</td>\n",
       "      <td>-0.185117</td>\n",
       "      <td>5</td>\n",
       "      <td>https://www.agoda.com/en-gb/apollo-hotel-londo...</td>\n",
       "      <td>GBP</td>\n",
       "      <td>881.48</td>\n",
       "      <td>1055.92</td>\n",
       "      <td>7.540</td>\n",
       "      <td>2.821</td>\n",
       "      <td>5.18</td>\n",
       "    </tr>\n",
       "  </tbody>\n",
       "</table>\n",
       "</div>"
      ],
      "text/plain": [
       "       id_x  hotelid                                      roomamenities  \\\n",
       "0  50677497   634876  Air conditioning: ;Alarm clock: ;Carpeting: ;C...   \n",
       "1  50650317     7975  Air conditioning: ;Clothes rack: ;Coffee/tea m...   \n",
       "2  50650318     7975  Air conditioning: ;Clothes rack: ;Coffee/tea m...   \n",
       "3  50650319     7975  Air conditioning: ;Clothes rack: ;Coffee/tea m...   \n",
       "4  50650320     7975  Air conditioning: ;Clothes rack: ;Heating: ;In...   \n",
       "\n",
       "               roomtype                                  ratedescription  \\\n",
       "0           Double Room     Room size: 15 m²/161 ft², Shower, 1 king bed   \n",
       "1  Standard Triple Room  Room size: 20 m²/215 ft², Shower, 3 single beds   \n",
       "2  Standard Triple Room  Room size: 20 m²/215 ft², Shower, 3 single beds   \n",
       "3  Standard Triple Room  Room size: 20 m²/215 ft², Shower, 3 single beds   \n",
       "4    Deluxe Triple Room            Shower, 1 single bed and 1 double bed   \n",
       "\n",
       "     id_y            hotelname                      address           city  \\\n",
       "0  135972  The Old Cider House             25 Castle Street  Nether Stowey   \n",
       "1   60309  Apollo Hotel London  64-66 Queensborough Terrace         London   \n",
       "2   60309  Apollo Hotel London  64-66 Queensborough Terrace         London   \n",
       "3   60309  Apollo Hotel London  64-66 Queensborough Terrace         London   \n",
       "4   60309  Apollo Hotel London  64-66 Queensborough Terrace         London   \n",
       "\n",
       "          country propertytype  starrating   latitude  longitude  Source  \\\n",
       "0  United Kingdom       Hotels           4  51.150921  -3.158470       5   \n",
       "1  United Kingdom       Hotels           2  51.511234  -0.185117       5   \n",
       "2  United Kingdom       Hotels           2  51.511234  -0.185117       5   \n",
       "3  United Kingdom       Hotels           2  51.511234  -0.185117       5   \n",
       "4  United Kingdom       Hotels           2  51.511234  -0.185117       5   \n",
       "\n",
       "                                                 url curr     min      max  \\\n",
       "0  https://www.agoda.com/en-gb/the-old-cider-hous...  GBP   82.36   107.70   \n",
       "1  https://www.agoda.com/en-gb/apollo-hotel-londo...  GBP  881.48  1055.92   \n",
       "2  https://www.agoda.com/en-gb/apollo-hotel-londo...  GBP  881.48  1055.92   \n",
       "3  https://www.agoda.com/en-gb/apollo-hotel-londo...  GBP  881.48  1055.92   \n",
       "4  https://www.agoda.com/en-gb/apollo-hotel-londo...  GBP  881.48  1055.92   \n",
       "\n",
       "   Diff_Min  Diff_Max  Score  \n",
       "0     0.084     0.418   0.25  \n",
       "1     7.540     2.821   5.18  \n",
       "2     7.540     2.821   5.18  \n",
       "3     7.540     2.821   5.18  \n",
       "4     7.540     2.821   5.18  "
      ]
     },
     "execution_count": 21,
     "metadata": {},
     "output_type": "execute_result"
    }
   ],
   "source": [
    "df.head()"
   ]
  },
  {
   "cell_type": "code",
   "execution_count": 22,
   "id": "ae448d68-6424-4f52-961d-5e93e901c0bd",
   "metadata": {},
   "outputs": [
    {
     "data": {
      "text/plain": [
       "(175544, 22)"
      ]
     },
     "execution_count": 22,
     "metadata": {},
     "output_type": "execute_result"
    }
   ],
   "source": [
    "df.shape"
   ]
  },
  {
   "cell_type": "code",
   "execution_count": 23,
   "id": "a060419d-991f-4d38-b553-ca48e1469cd7",
   "metadata": {},
   "outputs": [],
   "source": [
    "df.drop(['id_y','latitude','longitude','Source','curr'],axis = 1,inplace = True)"
   ]
  },
  {
   "cell_type": "code",
   "execution_count": 24,
   "id": "2fa99a9a-8277-4ea3-a2c9-7ca68aed7282",
   "metadata": {},
   "outputs": [],
   "source": [
    "df.rename(columns = {'id_x':'id'},inplace = True)"
   ]
  },
  {
   "cell_type": "code",
   "execution_count": 25,
   "id": "7a90f727-8cfe-4bd0-9589-a96c9396ffa8",
   "metadata": {
    "scrolled": true
   },
   "outputs": [
    {
     "data": {
      "text/plain": [
       "0"
      ]
     },
     "execution_count": 25,
     "metadata": {},
     "output_type": "execute_result"
    }
   ],
   "source": [
    "df.duplicated().sum()"
   ]
  },
  {
   "cell_type": "code",
   "execution_count": 26,
   "id": "a19a8286-fb72-49fb-ae5b-55f673f1d206",
   "metadata": {},
   "outputs": [],
   "source": [
    "indices = df[df['id'].duplicated()].index"
   ]
  },
  {
   "cell_type": "code",
   "execution_count": 27,
   "id": "d78bc95f-283a-4e98-9bc6-37df82d3d8c0",
   "metadata": {},
   "outputs": [],
   "source": [
    "df.drop(index = indices,inplace = True)"
   ]
  },
  {
   "cell_type": "code",
   "execution_count": 28,
   "id": "6da15698-42fa-4b97-b492-4c5f5938b37e",
   "metadata": {},
   "outputs": [
    {
     "data": {
      "text/plain": [
       "0"
      ]
     },
     "execution_count": 28,
     "metadata": {},
     "output_type": "execute_result"
    }
   ],
   "source": [
    "df['id'].duplicated().sum()"
   ]
  },
  {
   "cell_type": "code",
   "execution_count": 29,
   "id": "c6586b35-af80-447b-bf06-47b9cb7dcf24",
   "metadata": {},
   "outputs": [
    {
     "data": {
      "text/plain": [
       "(160438, 17)"
      ]
     },
     "execution_count": 29,
     "metadata": {},
     "output_type": "execute_result"
    }
   ],
   "source": [
    "df.shape"
   ]
  },
  {
   "cell_type": "code",
   "execution_count": 30,
   "id": "b684e3b3-4869-45f1-bef8-6f8f63c02108",
   "metadata": {},
   "outputs": [
    {
     "data": {
      "text/plain": [
       "0"
      ]
     },
     "execution_count": 30,
     "metadata": {},
     "output_type": "execute_result"
    }
   ],
   "source": [
    "df.duplicated().sum()"
   ]
  },
  {
   "cell_type": "markdown",
   "id": "15e8d6b0-e909-4c62-8652-e8100cab5393",
   "metadata": {},
   "source": [
    "## Data Cleaning"
   ]
  },
  {
   "cell_type": "markdown",
   "id": "d6afef90-9f21-495e-b7de-5df355e370e2",
   "metadata": {},
   "source": [
    "## 1. roomamenities"
   ]
  },
  {
   "cell_type": "markdown",
   "id": "02e8a03c-60df-4672-943e-4331e17cae61",
   "metadata": {},
   "source": [
    "- Removing whitespaces is necessary for our the recommendation so that it treats the entire word as one single entity"
   ]
  },
  {
   "cell_type": "code",
   "execution_count": 31,
   "id": "33dd66d0-85b4-4bd2-9be1-be0fe3e6ecbd",
   "metadata": {},
   "outputs": [],
   "source": [
    "def remove_whitespace(text):\n",
    "   return  text.replace(' ','')"
   ]
  },
  {
   "cell_type": "code",
   "execution_count": 32,
   "id": "88abffc2-bc80-4b66-a1d9-d4cf35884290",
   "metadata": {},
   "outputs": [
    {
     "data": {
      "text/plain": [
       "'Air conditioning: ;Alarm clock: ;Carpeting: ;Closet: ;Coffee/tea maker: ;Desk: ;DVD/CD player: ;Fan: ;Free Wi-Fi in all rooms!: ;Hair dryer: ;Heating: ;In-room safe box: ;Ironing facilities: ;Linens: ;Mini bar: ;Seating area: ;Toiletries: ;Towels: ;TV [flat screen]: ;'"
      ]
     },
     "execution_count": 32,
     "metadata": {},
     "output_type": "execute_result"
    }
   ],
   "source": [
    "df['roomamenities'][0]"
   ]
  },
  {
   "cell_type": "code",
   "execution_count": 33,
   "id": "459a84ab-2968-471f-be3f-deb173fbd7a9",
   "metadata": {},
   "outputs": [],
   "source": [
    "df['roomamenities_tag'] = df['roomamenities'].apply(lambda x:x.replace(': ;',','))"
   ]
  },
  {
   "cell_type": "code",
   "execution_count": 34,
   "id": "61e4ba8d-2a87-43a0-8e54-ee24a5e72de2",
   "metadata": {},
   "outputs": [],
   "source": [
    "df['roomamenities_tag'] = df['roomamenities_tag'].apply(remove_whitespace)"
   ]
  },
  {
   "cell_type": "code",
   "execution_count": 35,
   "id": "40dc5186-7b4e-47d9-8d6a-332b8cc61e18",
   "metadata": {},
   "outputs": [],
   "source": [
    "df['roomamenities_tag'] = df['roomamenities_tag'].apply(lambda x:x.split(','))"
   ]
  },
  {
   "cell_type": "code",
   "execution_count": 36,
   "id": "a80838d6-0ab4-4ce1-b4d3-3f73b130b51f",
   "metadata": {},
   "outputs": [
    {
     "data": {
      "text/plain": [
       "['Airconditioning',\n",
       " 'FreeWi-Fiinallrooms!',\n",
       " 'In-roomsafebox',\n",
       " 'Shower',\n",
       " 'TV',\n",
       " '']"
      ]
     },
     "execution_count": 36,
     "metadata": {},
     "output_type": "execute_result"
    }
   ],
   "source": [
    "df['roomamenities_tag'][66071]"
   ]
  },
  {
   "cell_type": "markdown",
   "id": "b34dfc10-3137-46e3-a961-5be3cf97974d",
   "metadata": {},
   "source": [
    "### 2. roomtype"
   ]
  },
  {
   "cell_type": "code",
   "execution_count": 37,
   "id": "26114725-5ece-4e61-a411-2bfd083ea15b",
   "metadata": {},
   "outputs": [
    {
     "data": {
      "text/plain": [
       "0                  Double Room\n",
       "1         Standard Triple Room\n",
       "2         Standard Triple Room\n",
       "3         Standard Triple Room\n",
       "4           Deluxe Triple Room\n",
       "                  ...         \n",
       "175539               Twin Room\n",
       "175540               Twin Room\n",
       "175541               Twin Room\n",
       "175542           Twin Standard\n",
       "175543         Double Standard\n",
       "Name: roomtype, Length: 160438, dtype: object"
      ]
     },
     "execution_count": 37,
     "metadata": {},
     "output_type": "execute_result"
    }
   ],
   "source": [
    "df['roomtype']"
   ]
  },
  {
   "cell_type": "code",
   "execution_count": 38,
   "id": "e84c068f-dcc0-414e-aa3c-f6854c1335f5",
   "metadata": {},
   "outputs": [],
   "source": [
    "df['roomtype_tag'] = df['roomtype'].apply(remove_whitespace)"
   ]
  },
  {
   "cell_type": "code",
   "execution_count": 39,
   "id": "4f2ff0a1-7bf7-4cfd-94ab-5f734b597569",
   "metadata": {},
   "outputs": [],
   "source": [
    "df['roomtype_tag'] =  df['roomtype_tag'].apply(lambda x:[x])"
   ]
  },
  {
   "cell_type": "code",
   "execution_count": 40,
   "id": "3bce7837-24ae-4b95-9abe-d9f69eaf7fe0",
   "metadata": {},
   "outputs": [
    {
     "data": {
      "text/plain": [
       "['DoubleStandard']"
      ]
     },
     "execution_count": 40,
     "metadata": {},
     "output_type": "execute_result"
    }
   ],
   "source": [
    "df['roomtype_tag'][66071]"
   ]
  },
  {
   "cell_type": "markdown",
   "id": "78bb6dcc-80e4-4aa6-b1bd-424459000a10",
   "metadata": {},
   "source": [
    "## 3. ratedescription"
   ]
  },
  {
   "cell_type": "code",
   "execution_count": 41,
   "id": "d6645cdc-69ad-4508-af13-40c2682dc386",
   "metadata": {},
   "outputs": [
    {
     "data": {
      "text/plain": [
       "0              Room size: 15 m²/161 ft², Shower, 1 king bed\n",
       "1           Room size: 20 m²/215 ft², Shower, 3 single beds\n",
       "2           Room size: 20 m²/215 ft², Shower, 3 single beds\n",
       "3           Room size: 20 m²/215 ft², Shower, 3 single beds\n",
       "4                     Shower, 1 single bed and 1 double bed\n",
       "                                ...                        \n",
       "175539    Room size: 17 m²/183 ft², Non-smoking, Shower,...\n",
       "175540    Room size: 17 m²/183 ft², Non-smoking, Shower,...\n",
       "175541    Room size: 17 m²/183 ft², Non-smoking, Shower,...\n",
       "175542    Pay nothing until November 21, 2019, Free Wi-F...\n",
       "175543    Pay nothing until November 21, 2019, Free Wi-F...\n",
       "Name: ratedescription, Length: 160438, dtype: object"
      ]
     },
     "execution_count": 41,
     "metadata": {},
     "output_type": "execute_result"
    }
   ],
   "source": [
    "df['ratedescription']"
   ]
  },
  {
   "cell_type": "markdown",
   "id": "3008de77-a049-43a6-a72d-3ea81200a853",
   "metadata": {},
   "source": [
    "- Remove room size because rooms with exact same size is not an important parameter for recommending hotel rooms"
   ]
  },
  {
   "cell_type": "code",
   "execution_count": 42,
   "id": "e0c118a9-cf48-46ae-b1d5-97b219998024",
   "metadata": {},
   "outputs": [],
   "source": [
    "import re\n",
    "\n",
    "def transform(text):\n",
    "    return re.sub(r'Room size: \\d+ m²/\\d+ ft², ','',text)"
   ]
  },
  {
   "cell_type": "code",
   "execution_count": 43,
   "id": "c86cb52f-0d8d-441b-b121-06f966b7deff",
   "metadata": {},
   "outputs": [],
   "source": [
    "df['ratedescription_tag'] = df['ratedescription'].apply(transform)"
   ]
  },
  {
   "cell_type": "code",
   "execution_count": 44,
   "id": "0a4dfa6d-57ae-446c-96ad-8d8e88903365",
   "metadata": {},
   "outputs": [],
   "source": [
    "df['ratedescription_tag'] = df['ratedescription_tag'].apply(remove_whitespace)"
   ]
  },
  {
   "cell_type": "code",
   "execution_count": 45,
   "id": "0e8f6066-4089-4179-9103-d6cb33de9b96",
   "metadata": {},
   "outputs": [],
   "source": [
    "df['ratedescription_tag'] = df['ratedescription_tag'].apply(lambda x:x.split(','))"
   ]
  },
  {
   "cell_type": "markdown",
   "id": "b71d4be7-abae-467c-8778-842a3bcb9e85",
   "metadata": {},
   "source": [
    "### 4. address"
   ]
  },
  {
   "cell_type": "code",
   "execution_count": 46,
   "id": "23ff5849-8716-49be-bb27-d175ebfdfbc8",
   "metadata": {},
   "outputs": [
    {
     "data": {
      "text/plain": [
       "8435"
      ]
     },
     "execution_count": 46,
     "metadata": {},
     "output_type": "execute_result"
    }
   ],
   "source": [
    "df['address'].nunique()"
   ]
  },
  {
   "cell_type": "code",
   "execution_count": 47,
   "id": "e9a339c0-7456-4b94-8289-da47b93f9e6a",
   "metadata": {},
   "outputs": [],
   "source": [
    "df['address_tag'] = df['address'].apply(remove_whitespace)"
   ]
  },
  {
   "cell_type": "code",
   "execution_count": 48,
   "id": "95095936-219c-4307-9351-ea44edc35f9e",
   "metadata": {},
   "outputs": [],
   "source": [
    "df['address_tag'] = df['address_tag'].apply(lambda x:x.split())"
   ]
  },
  {
   "cell_type": "markdown",
   "id": "17551a45-4e3b-4fff-9937-4e29d5774d69",
   "metadata": {},
   "source": [
    "### 5. city"
   ]
  },
  {
   "cell_type": "code",
   "execution_count": 49,
   "id": "934af9cd-e391-40dc-8bb2-cc3b8931b7fb",
   "metadata": {},
   "outputs": [],
   "source": [
    "df['city_tag'] = df['city'].apply(remove_whitespace)"
   ]
  },
  {
   "cell_type": "code",
   "execution_count": 50,
   "id": "dfc4e2f8-9815-4e80-bea6-6871cf4e75ec",
   "metadata": {},
   "outputs": [],
   "source": [
    "df['city_tag'] = df['city_tag'].apply(lambda x:x.split())"
   ]
  },
  {
   "cell_type": "code",
   "execution_count": 51,
   "id": "17f88785-0cd6-4182-ad64-9d8040582612",
   "metadata": {},
   "outputs": [
    {
     "data": {
      "text/plain": [
       "0                [NetherStowey]\n",
       "1                      [London]\n",
       "2                      [London]\n",
       "3                      [London]\n",
       "4                      [London]\n",
       "                  ...          \n",
       "175539    [Newcastle-upon-Tyne]\n",
       "175540    [Newcastle-upon-Tyne]\n",
       "175541    [Newcastle-upon-Tyne]\n",
       "175542    [Newcastle-upon-Tyne]\n",
       "175543    [Newcastle-upon-Tyne]\n",
       "Name: city_tag, Length: 160438, dtype: object"
      ]
     },
     "execution_count": 51,
     "metadata": {},
     "output_type": "execute_result"
    }
   ],
   "source": [
    "df['city_tag']"
   ]
  },
  {
   "cell_type": "markdown",
   "id": "f61ff411-5398-48c9-a190-752a58e16eed",
   "metadata": {},
   "source": [
    "### 6. country"
   ]
  },
  {
   "cell_type": "code",
   "execution_count": 52,
   "id": "edf731b0-bd9f-4f83-b205-9fa226668ef2",
   "metadata": {},
   "outputs": [],
   "source": [
    "df['country_tag'] = df['country'].apply(remove_whitespace)"
   ]
  },
  {
   "cell_type": "code",
   "execution_count": 53,
   "id": "b5bc3230-8cf0-4d73-8dfb-0298e27efdd0",
   "metadata": {},
   "outputs": [],
   "source": [
    "df['country_tag'] = df['country_tag'].apply(lambda x:x.split())"
   ]
  },
  {
   "cell_type": "code",
   "execution_count": 54,
   "id": "912faf36-1569-4ea7-ae8b-9840a09faf62",
   "metadata": {},
   "outputs": [
    {
     "data": {
      "text/plain": [
       "0         [UnitedKingdom]\n",
       "1         [UnitedKingdom]\n",
       "2         [UnitedKingdom]\n",
       "3         [UnitedKingdom]\n",
       "4         [UnitedKingdom]\n",
       "               ...       \n",
       "175539    [UnitedKingdom]\n",
       "175540    [UnitedKingdom]\n",
       "175541    [UnitedKingdom]\n",
       "175542    [UnitedKingdom]\n",
       "175543    [UnitedKingdom]\n",
       "Name: country_tag, Length: 160438, dtype: object"
      ]
     },
     "execution_count": 54,
     "metadata": {},
     "output_type": "execute_result"
    }
   ],
   "source": [
    "df['country_tag'] "
   ]
  },
  {
   "cell_type": "markdown",
   "id": "59e49443-15d2-4ff1-a2b7-8f85665a4e63",
   "metadata": {},
   "source": [
    "### 7. propertytype"
   ]
  },
  {
   "cell_type": "code",
   "execution_count": 55,
   "id": "44317937-8fb7-44c1-abc8-edb55dda3129",
   "metadata": {},
   "outputs": [],
   "source": [
    "df['propertytype_tag'] = df['propertytype'].apply(remove_whitespace)"
   ]
  },
  {
   "cell_type": "code",
   "execution_count": 56,
   "id": "972cb384-5a62-4345-b26e-22e5e89c739a",
   "metadata": {},
   "outputs": [],
   "source": [
    "df['propertytype_tag'] = df['propertytype_tag'].apply(lambda x:x.split())"
   ]
  },
  {
   "cell_type": "code",
   "execution_count": 57,
   "id": "41e7bc70-6e51-4887-9951-4c0ae4a5dc49",
   "metadata": {},
   "outputs": [
    {
     "data": {
      "text/html": [
       "<div>\n",
       "<style scoped>\n",
       "    .dataframe tbody tr th:only-of-type {\n",
       "        vertical-align: middle;\n",
       "    }\n",
       "\n",
       "    .dataframe tbody tr th {\n",
       "        vertical-align: top;\n",
       "    }\n",
       "\n",
       "    .dataframe thead th {\n",
       "        text-align: right;\n",
       "    }\n",
       "</style>\n",
       "<table border=\"1\" class=\"dataframe\">\n",
       "  <thead>\n",
       "    <tr style=\"text-align: right;\">\n",
       "      <th></th>\n",
       "      <th>id</th>\n",
       "      <th>hotelid</th>\n",
       "      <th>roomamenities</th>\n",
       "      <th>roomtype</th>\n",
       "      <th>ratedescription</th>\n",
       "      <th>hotelname</th>\n",
       "      <th>address</th>\n",
       "      <th>city</th>\n",
       "      <th>country</th>\n",
       "      <th>propertytype</th>\n",
       "      <th>starrating</th>\n",
       "      <th>url</th>\n",
       "      <th>min</th>\n",
       "      <th>max</th>\n",
       "      <th>Diff_Min</th>\n",
       "      <th>Diff_Max</th>\n",
       "      <th>Score</th>\n",
       "      <th>roomamenities_tag</th>\n",
       "      <th>roomtype_tag</th>\n",
       "      <th>ratedescription_tag</th>\n",
       "      <th>address_tag</th>\n",
       "      <th>city_tag</th>\n",
       "      <th>country_tag</th>\n",
       "      <th>propertytype_tag</th>\n",
       "    </tr>\n",
       "  </thead>\n",
       "  <tbody>\n",
       "    <tr>\n",
       "      <th>0</th>\n",
       "      <td>50677497</td>\n",
       "      <td>634876</td>\n",
       "      <td>Air conditioning: ;Alarm clock: ;Carpeting: ;C...</td>\n",
       "      <td>Double Room</td>\n",
       "      <td>Room size: 15 m²/161 ft², Shower, 1 king bed</td>\n",
       "      <td>The Old Cider House</td>\n",
       "      <td>25 Castle Street</td>\n",
       "      <td>Nether Stowey</td>\n",
       "      <td>United Kingdom</td>\n",
       "      <td>Hotels</td>\n",
       "      <td>4</td>\n",
       "      <td>https://www.agoda.com/en-gb/the-old-cider-hous...</td>\n",
       "      <td>82.36</td>\n",
       "      <td>107.70</td>\n",
       "      <td>0.084</td>\n",
       "      <td>0.418</td>\n",
       "      <td>0.25</td>\n",
       "      <td>[Airconditioning, Alarmclock, Carpeting, Close...</td>\n",
       "      <td>[DoubleRoom]</td>\n",
       "      <td>[Shower, 1kingbed]</td>\n",
       "      <td>[25CastleStreet]</td>\n",
       "      <td>[NetherStowey]</td>\n",
       "      <td>[UnitedKingdom]</td>\n",
       "      <td>[Hotels]</td>\n",
       "    </tr>\n",
       "    <tr>\n",
       "      <th>1</th>\n",
       "      <td>50650317</td>\n",
       "      <td>7975</td>\n",
       "      <td>Air conditioning: ;Clothes rack: ;Coffee/tea m...</td>\n",
       "      <td>Standard Triple Room</td>\n",
       "      <td>Room size: 20 m²/215 ft², Shower, 3 single beds</td>\n",
       "      <td>Apollo Hotel London</td>\n",
       "      <td>64-66 Queensborough Terrace</td>\n",
       "      <td>London</td>\n",
       "      <td>United Kingdom</td>\n",
       "      <td>Hotels</td>\n",
       "      <td>2</td>\n",
       "      <td>https://www.agoda.com/en-gb/apollo-hotel-londo...</td>\n",
       "      <td>881.48</td>\n",
       "      <td>1055.92</td>\n",
       "      <td>7.540</td>\n",
       "      <td>2.821</td>\n",
       "      <td>5.18</td>\n",
       "      <td>[Airconditioning, Clothesrack, Coffee/teamaker...</td>\n",
       "      <td>[StandardTripleRoom]</td>\n",
       "      <td>[Shower, 3singlebeds]</td>\n",
       "      <td>[64-66QueensboroughTerrace]</td>\n",
       "      <td>[London]</td>\n",
       "      <td>[UnitedKingdom]</td>\n",
       "      <td>[Hotels]</td>\n",
       "    </tr>\n",
       "    <tr>\n",
       "      <th>2</th>\n",
       "      <td>50650318</td>\n",
       "      <td>7975</td>\n",
       "      <td>Air conditioning: ;Clothes rack: ;Coffee/tea m...</td>\n",
       "      <td>Standard Triple Room</td>\n",
       "      <td>Room size: 20 m²/215 ft², Shower, 3 single beds</td>\n",
       "      <td>Apollo Hotel London</td>\n",
       "      <td>64-66 Queensborough Terrace</td>\n",
       "      <td>London</td>\n",
       "      <td>United Kingdom</td>\n",
       "      <td>Hotels</td>\n",
       "      <td>2</td>\n",
       "      <td>https://www.agoda.com/en-gb/apollo-hotel-londo...</td>\n",
       "      <td>881.48</td>\n",
       "      <td>1055.92</td>\n",
       "      <td>7.540</td>\n",
       "      <td>2.821</td>\n",
       "      <td>5.18</td>\n",
       "      <td>[Airconditioning, Clothesrack, Coffee/teamaker...</td>\n",
       "      <td>[StandardTripleRoom]</td>\n",
       "      <td>[Shower, 3singlebeds]</td>\n",
       "      <td>[64-66QueensboroughTerrace]</td>\n",
       "      <td>[London]</td>\n",
       "      <td>[UnitedKingdom]</td>\n",
       "      <td>[Hotels]</td>\n",
       "    </tr>\n",
       "    <tr>\n",
       "      <th>3</th>\n",
       "      <td>50650319</td>\n",
       "      <td>7975</td>\n",
       "      <td>Air conditioning: ;Clothes rack: ;Coffee/tea m...</td>\n",
       "      <td>Standard Triple Room</td>\n",
       "      <td>Room size: 20 m²/215 ft², Shower, 3 single beds</td>\n",
       "      <td>Apollo Hotel London</td>\n",
       "      <td>64-66 Queensborough Terrace</td>\n",
       "      <td>London</td>\n",
       "      <td>United Kingdom</td>\n",
       "      <td>Hotels</td>\n",
       "      <td>2</td>\n",
       "      <td>https://www.agoda.com/en-gb/apollo-hotel-londo...</td>\n",
       "      <td>881.48</td>\n",
       "      <td>1055.92</td>\n",
       "      <td>7.540</td>\n",
       "      <td>2.821</td>\n",
       "      <td>5.18</td>\n",
       "      <td>[Airconditioning, Clothesrack, Coffee/teamaker...</td>\n",
       "      <td>[StandardTripleRoom]</td>\n",
       "      <td>[Shower, 3singlebeds]</td>\n",
       "      <td>[64-66QueensboroughTerrace]</td>\n",
       "      <td>[London]</td>\n",
       "      <td>[UnitedKingdom]</td>\n",
       "      <td>[Hotels]</td>\n",
       "    </tr>\n",
       "    <tr>\n",
       "      <th>4</th>\n",
       "      <td>50650320</td>\n",
       "      <td>7975</td>\n",
       "      <td>Air conditioning: ;Clothes rack: ;Heating: ;In...</td>\n",
       "      <td>Deluxe Triple Room</td>\n",
       "      <td>Shower, 1 single bed and 1 double bed</td>\n",
       "      <td>Apollo Hotel London</td>\n",
       "      <td>64-66 Queensborough Terrace</td>\n",
       "      <td>London</td>\n",
       "      <td>United Kingdom</td>\n",
       "      <td>Hotels</td>\n",
       "      <td>2</td>\n",
       "      <td>https://www.agoda.com/en-gb/apollo-hotel-londo...</td>\n",
       "      <td>881.48</td>\n",
       "      <td>1055.92</td>\n",
       "      <td>7.540</td>\n",
       "      <td>2.821</td>\n",
       "      <td>5.18</td>\n",
       "      <td>[Airconditioning, Clothesrack, Heating, In-roo...</td>\n",
       "      <td>[DeluxeTripleRoom]</td>\n",
       "      <td>[Shower, 1singlebedand1doublebed]</td>\n",
       "      <td>[64-66QueensboroughTerrace]</td>\n",
       "      <td>[London]</td>\n",
       "      <td>[UnitedKingdom]</td>\n",
       "      <td>[Hotels]</td>\n",
       "    </tr>\n",
       "  </tbody>\n",
       "</table>\n",
       "</div>"
      ],
      "text/plain": [
       "         id  hotelid                                      roomamenities  \\\n",
       "0  50677497   634876  Air conditioning: ;Alarm clock: ;Carpeting: ;C...   \n",
       "1  50650317     7975  Air conditioning: ;Clothes rack: ;Coffee/tea m...   \n",
       "2  50650318     7975  Air conditioning: ;Clothes rack: ;Coffee/tea m...   \n",
       "3  50650319     7975  Air conditioning: ;Clothes rack: ;Coffee/tea m...   \n",
       "4  50650320     7975  Air conditioning: ;Clothes rack: ;Heating: ;In...   \n",
       "\n",
       "               roomtype                                  ratedescription  \\\n",
       "0           Double Room     Room size: 15 m²/161 ft², Shower, 1 king bed   \n",
       "1  Standard Triple Room  Room size: 20 m²/215 ft², Shower, 3 single beds   \n",
       "2  Standard Triple Room  Room size: 20 m²/215 ft², Shower, 3 single beds   \n",
       "3  Standard Triple Room  Room size: 20 m²/215 ft², Shower, 3 single beds   \n",
       "4    Deluxe Triple Room            Shower, 1 single bed and 1 double bed   \n",
       "\n",
       "             hotelname                      address           city  \\\n",
       "0  The Old Cider House             25 Castle Street  Nether Stowey   \n",
       "1  Apollo Hotel London  64-66 Queensborough Terrace         London   \n",
       "2  Apollo Hotel London  64-66 Queensborough Terrace         London   \n",
       "3  Apollo Hotel London  64-66 Queensborough Terrace         London   \n",
       "4  Apollo Hotel London  64-66 Queensborough Terrace         London   \n",
       "\n",
       "          country propertytype  starrating  \\\n",
       "0  United Kingdom       Hotels           4   \n",
       "1  United Kingdom       Hotels           2   \n",
       "2  United Kingdom       Hotels           2   \n",
       "3  United Kingdom       Hotels           2   \n",
       "4  United Kingdom       Hotels           2   \n",
       "\n",
       "                                                 url     min      max  \\\n",
       "0  https://www.agoda.com/en-gb/the-old-cider-hous...   82.36   107.70   \n",
       "1  https://www.agoda.com/en-gb/apollo-hotel-londo...  881.48  1055.92   \n",
       "2  https://www.agoda.com/en-gb/apollo-hotel-londo...  881.48  1055.92   \n",
       "3  https://www.agoda.com/en-gb/apollo-hotel-londo...  881.48  1055.92   \n",
       "4  https://www.agoda.com/en-gb/apollo-hotel-londo...  881.48  1055.92   \n",
       "\n",
       "   Diff_Min  Diff_Max  Score  \\\n",
       "0     0.084     0.418   0.25   \n",
       "1     7.540     2.821   5.18   \n",
       "2     7.540     2.821   5.18   \n",
       "3     7.540     2.821   5.18   \n",
       "4     7.540     2.821   5.18   \n",
       "\n",
       "                                   roomamenities_tag          roomtype_tag  \\\n",
       "0  [Airconditioning, Alarmclock, Carpeting, Close...          [DoubleRoom]   \n",
       "1  [Airconditioning, Clothesrack, Coffee/teamaker...  [StandardTripleRoom]   \n",
       "2  [Airconditioning, Clothesrack, Coffee/teamaker...  [StandardTripleRoom]   \n",
       "3  [Airconditioning, Clothesrack, Coffee/teamaker...  [StandardTripleRoom]   \n",
       "4  [Airconditioning, Clothesrack, Heating, In-roo...    [DeluxeTripleRoom]   \n",
       "\n",
       "                 ratedescription_tag                  address_tag  \\\n",
       "0                 [Shower, 1kingbed]             [25CastleStreet]   \n",
       "1              [Shower, 3singlebeds]  [64-66QueensboroughTerrace]   \n",
       "2              [Shower, 3singlebeds]  [64-66QueensboroughTerrace]   \n",
       "3              [Shower, 3singlebeds]  [64-66QueensboroughTerrace]   \n",
       "4  [Shower, 1singlebedand1doublebed]  [64-66QueensboroughTerrace]   \n",
       "\n",
       "         city_tag      country_tag propertytype_tag  \n",
       "0  [NetherStowey]  [UnitedKingdom]         [Hotels]  \n",
       "1        [London]  [UnitedKingdom]         [Hotels]  \n",
       "2        [London]  [UnitedKingdom]         [Hotels]  \n",
       "3        [London]  [UnitedKingdom]         [Hotels]  \n",
       "4        [London]  [UnitedKingdom]         [Hotels]  "
      ]
     },
     "execution_count": 57,
     "metadata": {},
     "output_type": "execute_result"
    }
   ],
   "source": [
    "df.head()"
   ]
  },
  {
   "cell_type": "markdown",
   "id": "22173ba9-c33c-47a7-afa4-4bd8cc2c49c4",
   "metadata": {},
   "source": [
    "### Creating tags for each room of the hotels as a list of keywords which will serve as the basis for the recommendation system"
   ]
  },
  {
   "cell_type": "code",
   "execution_count": 58,
   "id": "382ee71c-29cc-4378-8326-314d9b8b1ccc",
   "metadata": {},
   "outputs": [],
   "source": [
    "df['tags'] = df['roomamenities_tag'] + df['roomtype_tag'] + df['ratedescription_tag'] + df['address_tag'] + df['city_tag'] + df['country_tag'] + df['propertytype_tag']"
   ]
  },
  {
   "cell_type": "code",
   "execution_count": 59,
   "id": "5b7b5385-a97e-40d2-a4ec-51e645a4d523",
   "metadata": {},
   "outputs": [],
   "source": [
    "df['tags'] = df['tags'].apply(lambda x:\" \".join(x))"
   ]
  },
  {
   "cell_type": "markdown",
   "id": "fc250f4c-7521-487e-9882-82bdb01964dd",
   "metadata": {},
   "source": [
    "### Filtering the important columns "
   ]
  },
  {
   "cell_type": "code",
   "execution_count": 60,
   "id": "9dada519-5a47-49c1-9abc-928f8325af6d",
   "metadata": {},
   "outputs": [],
   "source": [
    "df_final = df[['hotelname','tags','starrating','roomtype','country','city','propertytype']]"
   ]
  },
  {
   "cell_type": "code",
   "execution_count": 61,
   "id": "e6789c2b-b044-41ce-bf0c-5ecb974841e8",
   "metadata": {},
   "outputs": [
    {
     "data": {
      "text/plain": [
       "117114"
      ]
     },
     "execution_count": 61,
     "metadata": {},
     "output_type": "execute_result"
    }
   ],
   "source": [
    "df_final.duplicated().sum()"
   ]
  },
  {
   "cell_type": "code",
   "execution_count": 62,
   "id": "a2f9ca17-83cc-479a-8f32-ae376d9b80ba",
   "metadata": {},
   "outputs": [
    {
     "name": "stderr",
     "output_type": "stream",
     "text": [
      "C:\\Users\\Aditya kalsi\\AppData\\Local\\Temp\\ipykernel_15352\\3496236793.py:1: SettingWithCopyWarning: \n",
      "A value is trying to be set on a copy of a slice from a DataFrame\n",
      "\n",
      "See the caveats in the documentation: https://pandas.pydata.org/pandas-docs/stable/user_guide/indexing.html#returning-a-view-versus-a-copy\n",
      "  df_final.drop_duplicates(inplace = True)\n"
     ]
    }
   ],
   "source": [
    "df_final.drop_duplicates(inplace = True)"
   ]
  },
  {
   "cell_type": "code",
   "execution_count": 63,
   "id": "b9b97ffe-562b-4d8c-8769-b8aafab3d692",
   "metadata": {},
   "outputs": [
    {
     "data": {
      "text/plain": [
       "hotelname       0\n",
       "tags            0\n",
       "starrating      0\n",
       "roomtype        0\n",
       "country         0\n",
       "city            0\n",
       "propertytype    0\n",
       "dtype: int64"
      ]
     },
     "execution_count": 63,
     "metadata": {},
     "output_type": "execute_result"
    }
   ],
   "source": [
    "df_final.isna().sum()"
   ]
  },
  {
   "cell_type": "code",
   "execution_count": 64,
   "id": "47635204-53c4-4a90-b0bb-f39d115ad189",
   "metadata": {},
   "outputs": [],
   "source": [
    "df_final.reset_index(inplace = True)"
   ]
  },
  {
   "cell_type": "code",
   "execution_count": 65,
   "id": "90ed45df-24f0-4b4c-a653-4bdea7a7f26a",
   "metadata": {},
   "outputs": [
    {
     "data": {
      "text/plain": [
       "['Hotels', 'Holiday parks', 'Resorts', 'Campsites']"
      ]
     },
     "execution_count": 65,
     "metadata": {},
     "output_type": "execute_result"
    }
   ],
   "source": [
    "df_final[df_final['country'] == 'France']['propertytype'].unique().tolist()"
   ]
  },
  {
   "cell_type": "code",
   "execution_count": 66,
   "id": "b4d36d7c-c021-4dc5-aa91-c6f1b2db35e3",
   "metadata": {},
   "outputs": [
    {
     "data": {
      "text/html": [
       "<div>\n",
       "<style scoped>\n",
       "    .dataframe tbody tr th:only-of-type {\n",
       "        vertical-align: middle;\n",
       "    }\n",
       "\n",
       "    .dataframe tbody tr th {\n",
       "        vertical-align: top;\n",
       "    }\n",
       "\n",
       "    .dataframe thead th {\n",
       "        text-align: right;\n",
       "    }\n",
       "</style>\n",
       "<table border=\"1\" class=\"dataframe\">\n",
       "  <thead>\n",
       "    <tr style=\"text-align: right;\">\n",
       "      <th></th>\n",
       "      <th>index</th>\n",
       "      <th>hotelname</th>\n",
       "      <th>tags</th>\n",
       "      <th>starrating</th>\n",
       "      <th>roomtype</th>\n",
       "      <th>country</th>\n",
       "      <th>city</th>\n",
       "      <th>propertytype</th>\n",
       "    </tr>\n",
       "  </thead>\n",
       "  <tbody>\n",
       "    <tr>\n",
       "      <th>0</th>\n",
       "      <td>0</td>\n",
       "      <td>The Old Cider House</td>\n",
       "      <td>Airconditioning Alarmclock Carpeting Closet Co...</td>\n",
       "      <td>4</td>\n",
       "      <td>Double Room</td>\n",
       "      <td>United Kingdom</td>\n",
       "      <td>Nether Stowey</td>\n",
       "      <td>Hotels</td>\n",
       "    </tr>\n",
       "    <tr>\n",
       "      <th>1</th>\n",
       "      <td>1</td>\n",
       "      <td>Apollo Hotel London</td>\n",
       "      <td>Airconditioning Clothesrack Coffee/teamaker Da...</td>\n",
       "      <td>2</td>\n",
       "      <td>Standard Triple Room</td>\n",
       "      <td>United Kingdom</td>\n",
       "      <td>London</td>\n",
       "      <td>Hotels</td>\n",
       "    </tr>\n",
       "    <tr>\n",
       "      <th>2</th>\n",
       "      <td>4</td>\n",
       "      <td>Apollo Hotel London</td>\n",
       "      <td>Airconditioning Clothesrack Heating In-roomsaf...</td>\n",
       "      <td>2</td>\n",
       "      <td>Deluxe Triple Room</td>\n",
       "      <td>United Kingdom</td>\n",
       "      <td>London</td>\n",
       "      <td>Hotels</td>\n",
       "    </tr>\n",
       "  </tbody>\n",
       "</table>\n",
       "</div>"
      ],
      "text/plain": [
       "   index            hotelname  \\\n",
       "0      0  The Old Cider House   \n",
       "1      1  Apollo Hotel London   \n",
       "2      4  Apollo Hotel London   \n",
       "\n",
       "                                                tags  starrating  \\\n",
       "0  Airconditioning Alarmclock Carpeting Closet Co...           4   \n",
       "1  Airconditioning Clothesrack Coffee/teamaker Da...           2   \n",
       "2  Airconditioning Clothesrack Heating In-roomsaf...           2   \n",
       "\n",
       "               roomtype         country           city propertytype  \n",
       "0           Double Room  United Kingdom  Nether Stowey       Hotels  \n",
       "1  Standard Triple Room  United Kingdom         London       Hotels  \n",
       "2    Deluxe Triple Room  United Kingdom         London       Hotels  "
      ]
     },
     "execution_count": 66,
     "metadata": {},
     "output_type": "execute_result"
    }
   ],
   "source": [
    "df_final.head(3)"
   ]
  },
  {
   "cell_type": "code",
   "execution_count": 86,
   "id": "1f911205-9259-4e30-b806-cead084cae22",
   "metadata": {},
   "outputs": [],
   "source": [
    "from sklearn.feature_extraction.text import TfidfVectorizer\n",
    "tfidf = TfidfVectorizer(max_features=1000,stop_words='english')"
   ]
  },
  {
   "cell_type": "code",
   "execution_count": 87,
   "id": "813b5d9e-b3bf-4042-9c98-5a5031e83c8a",
   "metadata": {},
   "outputs": [],
   "source": [
    "from sklearn.metrics.pairwise import cosine_similarity"
   ]
  },
  {
   "cell_type": "code",
   "execution_count": 88,
   "id": "a3ee2ea2-afff-4afe-839d-157e72a8aead",
   "metadata": {},
   "outputs": [],
   "source": [
    "def recommend(type,country,city,property):\n",
    "    \n",
    "    ## filtering the dataframe to the requirements of the user\n",
    "    filtered_df = df_final[\n",
    "        (df_final['roomtype'] == type) &\n",
    "        (df_final['country'] == country) &\n",
    "        (df_final['city'] == city) &\n",
    "        (df_final['propertytype'] == property)\n",
    "    ]\n",
    "\n",
    "    ## creating a temporary dataframe so that we recommend hotels only from the speicified country and city rather than using the entire df which\n",
    "    ## could lead to results from different cities and countries\n",
    "    temp = df_final[\n",
    "        (df_final['country'] == country) &\n",
    "        (df_final['city'] == city) \n",
    "    ]\n",
    "\n",
    "    ## indices of the hotels of user requirements\n",
    "    idx1 = filtered_df['index'].tolist()\n",
    "\n",
    "    ## reseting index because we need to search for the indices in idx1 in temp\n",
    "    temp.reset_index(inplace = True)\n",
    "\n",
    "    ## extracting the index(of the dataframe) of the specified hotels \n",
    "    idx2 = temp[temp['index'].isin(idx1)].index.tolist()\n",
    "    \n",
    "    ## creating similarity matrix\n",
    "    vector = tfidf.fit_transform(temp['tags']).toarray()\n",
    "    similarity = cosine_similarity(vector)\n",
    "    \n",
    "    ## traverse each user specified hotel and extract top recommend hotels for each specified hotel\n",
    "    recommendations = set()\n",
    "    for i in idx2:\n",
    "        similar_hotels = sorted(list(enumerate(similarity[i])),key = lambda x:x[1],reverse = True)[0:5]\n",
    "        for hotel in similar_hotels:\n",
    "             recommendations.add(tuple(temp.loc[hotel[0]][['hotelname','roomtype','starrating']]))\n",
    "    return list(recommendations)"
   ]
  },
  {
   "cell_type": "code",
   "execution_count": 89,
   "id": "ca4f087a-3c0e-4a3a-9253-fa9752fa552c",
   "metadata": {},
   "outputs": [
    {
     "data": {
      "text/plain": [
       "[('Hotel Mons am Goetheplatz', 'Comfort Single Room', 2),\n",
       " ('Hotel Freisinger Hof', 'Classic Single Room - Annex', 4),\n",
       " ('Hotel Mons am Goetheplatz', 'Comfort Double Room', 2),\n",
       " ('Hotel am Schlosspark Zum Kurfurst', 'Comfort Single Room', 3),\n",
       " ('Hotel Mons am Goetheplatz', 'Single Room with Shared Bathroom', 2),\n",
       " ('Hotel Freisinger Hof', 'Suite', 4),\n",
       " ('Hotel Mons am Goetheplatz', 'Standard Double Room', 2),\n",
       " ('Hotel Freisinger Hof', 'Comfort Single Room', 4),\n",
       " ('Hotel Freisinger Hof', 'Comfort Double Room', 4),\n",
       " ('Hotel am Schlosspark Zum Kurfurst', 'Superior Double Room', 3),\n",
       " ('Hotel am Schlosspark Zum Kurfurst', 'Comfort Double Room', 3),\n",
       " ('Hotel Freisinger Hof', 'Superior Single Room', 4),\n",
       " ('Hotel Mons am Goetheplatz', 'Standard Single Room', 2)]"
      ]
     },
     "execution_count": 89,
     "metadata": {},
     "output_type": "execute_result"
    }
   ],
   "source": [
    "recommend('Comfort Single Room','Germany','Munich','Hotels')"
   ]
  },
  {
   "cell_type": "code",
   "execution_count": 71,
   "id": "2c932b3b-873e-496b-b60e-fa53dfbefab2",
   "metadata": {},
   "outputs": [
    {
     "data": {
      "text/plain": [
       "[('Comfort Hotel Paris Lafayette', 'Twin Room', 3),\n",
       " ('Hotel Pavillon Montmartre', 'Twin Room', 3),\n",
       " ('Qualys-Hotel Nanterre-Paris La Defense', 'Superior Twin Room', 3),\n",
       " ('Hotel Colisee', 'Single Room', 3),\n",
       " ('Le Regence Hotel', 'Double Room - Superior (2 people)', 4),\n",
       " ('Hotel Colisee', 'Triple Room', 3),\n",
       " ('Campanile Paris Ouest Nanterre La Defense', 'Twin', 3),\n",
       " ('Hotel Mercure Paris Saint-Ouen', 'Superior Double Room (3 Adults)', 4),\n",
       " ('Campanile Paris Est Porte De Bagnolet Hotel', 'Triple', 3),\n",
       " ('Hotel de Geneve', 'Quad', 3),\n",
       " ('Hotel Cordelia', 'Double Room', 3),\n",
       " ('Hotel Cluny Square', 'Double Room', 3),\n",
       " ('Hotel Camelia International', 'Twin Room', 2),\n",
       " ('Hotel Berkeley', 'Double Room', 3),\n",
       " ('Pavillon Porte de Versailles', 'Standard Twin with Breakfast', 3),\n",
       " ('Hotel George Washington', 'Twin Room', 4),\n",
       " ('Hotel Bristol Republique', 'Double/ Twin Room', 3),\n",
       " ('Premiere Classe Paris Ouest - Pont de Suresnes Hotel', 'Double Room', 2),\n",
       " ('Le Regence Hotel', 'Triple Room', 4),\n",
       " ('Hotel Bonne Nouvelle', 'Single Room', 3),\n",
       " ('Apogia Hotel', 'Confort Single room', 3),\n",
       " ('Hotel Bonne Nouvelle', 'Triple Room', 3),\n",
       " ('Hotel Royal Madeleine', 'Single Room', 4),\n",
       " ('Hotel Cordelia', 'Twin/Double Room', 3),\n",
       " ('Hotel Cluny Square', 'Double with Balcony', 3),\n",
       " ('Campanile Paris Est Porte De Bagnolet Hotel', 'Run of House', 3),\n",
       " ('Campanile Paris Ouest - Levallois Perret', 'Twin Room', 3),\n",
       " ('Pavillon Porte de Versailles', 'Classic Room', 3),\n",
       " ('Hotel La Bourdonnais', 'Double Room', 4),\n",
       " ('Le Regence Hotel', 'Single Room', 4),\n",
       " ('Hotel Royal Madeleine', 'Deluxe Room', 4),\n",
       " ('Hotel Bonne Nouvelle', 'Double Room', 3),\n",
       " ('Super Hotel', 'Double Room', 3),\n",
       " ('Hotel Marais Bastille', 'Twin Room', 3),\n",
       " ('Hotel Le Pavillon', 'Twin Room', 3),\n",
       " ('Hotel Richmond', 'Double Room', 2),\n",
       " ('Hotel Marais Bastille', 'Superior Double', 3),\n",
       " ('Hotel La Vieille France', 'Double Room', 2),\n",
       " ('Hotel Beaugency', 'Single Room', 3),\n",
       " ('Hotel Camelia International', 'Quadruple Room', 2),\n",
       " ('Hotel La Bourdonnais', 'Junior Suite', 4),\n",
       " ('Hotel Le Bailli de Suffren', 'Twin Room', 3),\n",
       " ('Hotel Berkeley', 'Single Room', 3),\n",
       " ('Hotel Tour Eiffel', 'Quadruple Room with Terrace', 2),\n",
       " ('Hotel Opera Paris', 'Double Room', 2),\n",
       " ('Coypel Hotel', 'Triple Family Room', 2),\n",
       " ('Hotel Richmond', 'Twin', 2),\n",
       " ('Hotel George Washington', 'Superior Twin Room', 4),\n",
       " ('Campanile Paris Ouest - Levallois Perret', 'Double Room', 3),\n",
       " ('ibis budget Paris Porte de Bercy', 'Basic Triple Room', 2),\n",
       " ('Premiere Classe Paris Ouest - Pont de Suresnes Hotel', 'Triple Room', 2),\n",
       " ('Campanile Paris Est Porte De Bagnolet Hotel', 'Twin Room', 3),\n",
       " ('Best Western Hotel Litteraire Arthur Rimbaud', 'Double', 4),\n",
       " ('Hotel Opera Paris', 'Single', 2),\n",
       " ('Qualys-Hotel Nanterre-Paris La Defense', 'Superior Double Room', 3),\n",
       " ('Hotel Tour Eiffel', 'Double Room', 2),\n",
       " ('Seven Hotel', 'Double', 4),\n",
       " ('Qualys-Hotel Nanterre-Paris La Defense', 'Double Room', 3),\n",
       " ('Coypel Hotel', 'Superior Double Room', 2),\n",
       " ('Super Hotel', 'Single Room', 3),\n",
       " ('Hotel Berkeley', 'Superior Double Room', 3),\n",
       " ('Hotel Richmond', 'Single Room', 2),\n",
       " ('Hotel La Vieille France', 'Triple Room', 2),\n",
       " ('Hotel LOCOMO', 'Triple Room', 3),\n",
       " ('ibis budget Paris Porte d Italie Est', 'Standard Triple', 2),\n",
       " ('Hotel Marais Bastille', 'Double Room', 3),\n",
       " ('Hotel Beaugency', 'Superior Twin', 3),\n",
       " ('Hotel Colisee', 'Twin Room', 3),\n",
       " ('Hotel du Theatre', 'Two Adjacent Double Rooms ', 3),\n",
       " ('Comfort Hotel Paris Lafayette', 'Single Room', 3),\n",
       " ('Hotel Pax Montmartre', 'Double Room', 2),\n",
       " ('Comfort Hotel Paris Lafayette', 'Triple Room', 3),\n",
       " ('Hotel Pavillon Montmartre', 'Triple Room', 3),\n",
       " ('Hotel LOCOMO', 'Double Room', 3),\n",
       " ('Comfort Hotel Paris Lafayette', 'Double Room', 3),\n",
       " ('Hotel Camelia International', 'Triple Room', 2),\n",
       " ('Hotel Astor', 'Double Room', 3),\n",
       " ('Hotel George Washington', 'Superior King Room', 4),\n",
       " ('Pavillon Porte de Versailles', 'Double Room with Breakfast', 3),\n",
       " ('ibis budget Paris Porte d Italie Est', 'Double Room', 2),\n",
       " ('Hotel Pavillon Montmartre', 'Double Room', 3),\n",
       " ('Hotel Ecole Centrale', 'Exclusive Double Room', 3),\n",
       " ('Pavillon Porte de Versailles', 'Double Room', 3),\n",
       " ('Hotel LOCOMO', 'Large Double or Twin Room', 3),\n",
       " ('ibis budget Paris Porte de Bercy', '3 Single Beds Room', 2),\n",
       " ('Hotel La Bourdonnais', 'Executive Room', 4),\n",
       " ('Pavillon Porte de Versailles',\n",
       "  'Double Room with Breakfast - Non Refundable',\n",
       "  3),\n",
       " ('Apogia Hotel', 'Double Room', 3),\n",
       " ('Hotel Camelia International', 'Double Room', 2),\n",
       " ('Hotel Marais Bastille', 'Single Room', 3),\n",
       " ('Hotel Le Pavillon', 'Single Room', 3),\n",
       " ('Hotel de Geneve', 'Double Room', 3),\n",
       " ('Hotel Beaugency', 'Twin Room', 3),\n",
       " ('Hotel du Theatre', 'Double Room', 3),\n",
       " ('Hotel Odyssey Paris by Elegancia', 'Superior Double Room', 3),\n",
       " ('Hotel Le Bailli de Suffren', 'Executive Double Room', 3),\n",
       " ('Hotel Cluny Square', 'Twin Room', 3),\n",
       " ('Hotel Tour Eiffel', 'Triple', 2),\n",
       " ('Hotel Ecole Centrale', 'Single Room', 3),\n",
       " ('Ibis Styles Hotel Paris Gare de Lyon Bastille', 'Standard Double Room', 3),\n",
       " ('Hotel Le Pavillon', 'Double Room', 3),\n",
       " ('Hotel Tour Eiffel', 'Double Superior', 2),\n",
       " ('Hotel LOCOMO', 'Single Room', 3),\n",
       " ('ibis budget Paris Porte de Bercy', 'Double Room', 2),\n",
       " ('Hotel Ecole Centrale', 'Double Room', 3),\n",
       " ('Hotel Astor', 'Single Room', 3),\n",
       " ('CAMPANILE VAL DE France', 'Double Room', 3),\n",
       " ('Hotel Opera Paris', 'Run of House', 2),\n",
       " ('Hotel Bristol Republique', 'Single', 3),\n",
       " ('Hotel du Theatre', 'Comfort Double or Twin Room', 3),\n",
       " ('Le Regence Hotel', 'Double Room', 4),\n",
       " ('Pavillon Porte de Versailles', 'Single Classic', 3),\n",
       " ('Hotel Le Bailli de Suffren', 'Double Room', 3),\n",
       " ('Hotel Royal Madeleine', 'Luxury Quadruple Room', 4),\n",
       " ('Hotel Royal Madeleine', 'Superior Room', 4),\n",
       " ('Hotel La Bourdonnais', 'Classic Single Room', 4),\n",
       " ('Hotel Pavillon Montmartre', 'Single Room', 3),\n",
       " ('Hotel Richmond', 'Triple', 2),\n",
       " ('Hotel Le Pavillon', 'Superior - 2 Adults', 3),\n",
       " ('Qualys-Hotel Nanterre-Paris La Defense',\n",
       "  'Triple - 1 Double Bed And 1 Single Bed',\n",
       "  3),\n",
       " ('Apogia Hotel', 'Triple Room', 3),\n",
       " ('Comfort Hotel Paris Lafayette', 'Superior Double Room', 3),\n",
       " ('Hotel Balladins Bobigny', 'Double Room', 3),\n",
       " ('Hotel Camelia International', 'Single Room', 2),\n",
       " ('Hotel Cluny Square', 'Romance Suite', 3),\n",
       " ('Premiere Classe Paris Ouest - Pont de Suresnes Hotel',\n",
       "  'Triple room - 3 single beds',\n",
       "  2),\n",
       " ('Villa Luxembourg Hotel', 'Run of House', 4),\n",
       " ('Hotel La Vieille France', 'Twin Room', 2),\n",
       " ('Hotel Wilson Opera', 'Superior Double Room', 3),\n",
       " ('Hotel Mercure Paris Saint-Ouen', 'Classic Room with 1 Double Bed', 4),\n",
       " ('Hotel George Washington', 'Triple Room', 4),\n",
       " ('Le Regence Hotel', 'Twin Room', 4),\n",
       " ('Hotel Bonne Nouvelle', 'Twin Room', 3),\n",
       " ('Hotel Beaugency', 'Double Room', 3),\n",
       " ('Campanile Paris Est Porte De Bagnolet Hotel', 'Double Room', 3),\n",
       " ('Apogia Hotel', 'Superior Double Room', 3),\n",
       " ('Hotel George Washington', 'Double Room', 4),\n",
       " ('Coypel Hotel', 'Double Room', 2),\n",
       " ('Hotel Cluny Square', 'Voyage Suite', 3),\n",
       " ('Hotel Opera Paris', 'Twin Room', 2),\n",
       " ('Hotel LOCOMO', 'Small Single Room', 3),\n",
       " ('Villa Luxembourg Hotel', 'Double Room', 4),\n",
       " ('ibis budget Paris Porte de Bercy', 'Triple Room', 2),\n",
       " ('Hipotel Paris Printania', 'Double Room', 2),\n",
       " ('Hotel Balladins Bobigny', 'Twin Bedded Room', 3),\n",
       " ('Hotel Berkeley', 'Standard Room', 3),\n",
       " ('Campanile Paris Est Porte De Bagnolet Hotel', 'Quadruple RoomNRF', 3),\n",
       " ('Hotel La Bourdonnais', 'Deluxe Double Room', 4),\n",
       " ('Hotel Ecole Centrale', 'Superior Room', 3),\n",
       " ('Campanile Paris Est Porte De Bagnolet Hotel',\n",
       "  'Triple - 1 Double Bed + 1 Single Bed',\n",
       "  3),\n",
       " ('Hotel Beaugency', 'Superior Double', 3),\n",
       " ('Qualys-Hotel Nanterre-Paris La Defense', 'Twin Room', 3),\n",
       " ('Hotel Colisee', 'Double Room', 3),\n",
       " ('Campanile Paris XIX La Villette', 'Double Room Next Generation', 3),\n",
       " ('Coypel Hotel', 'Twin Room', 2),\n",
       " ('Le Relais du Marais Hotel', 'Single Room', 3),\n",
       " ('Hotel Montsouris Orleans', 'Double Room', 3),\n",
       " ('Pavillon Porte de Versailles', 'Double Room - non refundable', 3),\n",
       " ('Hotel La Vieille France', 'Quadruple Room', 2),\n",
       " ('Hotel Tour Eiffel', 'Comfort Quadruple Room', 2),\n",
       " ('Le Relais du Marais Hotel', 'Double Room', 3),\n",
       " ('Hotel Mercure Paris Orly Rungis', 'Classic \\xa0Double Room', 4),\n",
       " ('Hotel Pax Montmartre', 'Twin Room', 2),\n",
       " ('Hotel Astor', 'Privilege Double Room', 3),\n",
       " ('Hotel Royal Madeleine', 'Double Room', 4),\n",
       " ('Apogia Hotel', 'Single Room', 3),\n",
       " ('CAMPANILE VAL DE France', 'Twin Room', 3),\n",
       " ('Coypel Hotel', 'Single Room', 2),\n",
       " ('Super Hotel', 'Twin Room', 3),\n",
       " ('Hotel Richmond', 'Superior Double', 2)]"
      ]
     },
     "execution_count": 71,
     "metadata": {},
     "output_type": "execute_result"
    }
   ],
   "source": [
    "recommend('Double Room','France','Paris','Hotels')"
   ]
  },
  {
   "cell_type": "code",
   "execution_count": 90,
   "id": "90d6b6fd-3933-4589-b3da-4caa8a0fb3dc",
   "metadata": {},
   "outputs": [
    {
     "ename": "ValueError",
     "evalue": "empty vocabulary; perhaps the documents only contain stop words",
     "output_type": "error",
     "traceback": [
      "\u001b[1;31m---------------------------------------------------------------------------\u001b[0m",
      "\u001b[1;31mValueError\u001b[0m                                Traceback (most recent call last)",
      "Cell \u001b[1;32mIn[90], line 1\u001b[0m\n\u001b[1;32m----> 1\u001b[0m recommend(\u001b[38;5;124m'\u001b[39m\u001b[38;5;124mDouble Room\u001b[39m\u001b[38;5;124m'\u001b[39m,\u001b[38;5;124m'\u001b[39m\u001b[38;5;124mSpain\u001b[39m\u001b[38;5;124m'\u001b[39m,\u001b[38;5;124m'\u001b[39m\u001b[38;5;124mManchester\u001b[39m\u001b[38;5;124m'\u001b[39m,\u001b[38;5;124m'\u001b[39m\u001b[38;5;124mHotels\u001b[39m\u001b[38;5;124m'\u001b[39m)\n",
      "Cell \u001b[1;32mIn[88], line 28\u001b[0m, in \u001b[0;36mrecommend\u001b[1;34m(type, country, city, property)\u001b[0m\n\u001b[0;32m     25\u001b[0m idx2 \u001b[38;5;241m=\u001b[39m temp[temp[\u001b[38;5;124m'\u001b[39m\u001b[38;5;124mindex\u001b[39m\u001b[38;5;124m'\u001b[39m]\u001b[38;5;241m.\u001b[39misin(idx1)]\u001b[38;5;241m.\u001b[39mindex\u001b[38;5;241m.\u001b[39mtolist()\n\u001b[0;32m     27\u001b[0m \u001b[38;5;66;03m## creating similarity matrix\u001b[39;00m\n\u001b[1;32m---> 28\u001b[0m vector \u001b[38;5;241m=\u001b[39m tfidf\u001b[38;5;241m.\u001b[39mfit_transform(temp[\u001b[38;5;124m'\u001b[39m\u001b[38;5;124mtags\u001b[39m\u001b[38;5;124m'\u001b[39m])\u001b[38;5;241m.\u001b[39mtoarray()\n\u001b[0;32m     29\u001b[0m similarity \u001b[38;5;241m=\u001b[39m cosine_similarity(vector)\n\u001b[0;32m     31\u001b[0m \u001b[38;5;66;03m## traverse each user specified hotel and extract top recommend hotels for each specified hotel\u001b[39;00m\n",
      "File \u001b[1;32m~\\aditya139\\adi\\Lib\\site-packages\\sklearn\\feature_extraction\\text.py:2091\u001b[0m, in \u001b[0;36mTfidfVectorizer.fit_transform\u001b[1;34m(self, raw_documents, y)\u001b[0m\n\u001b[0;32m   2084\u001b[0m \u001b[38;5;28mself\u001b[39m\u001b[38;5;241m.\u001b[39m_check_params()\n\u001b[0;32m   2085\u001b[0m \u001b[38;5;28mself\u001b[39m\u001b[38;5;241m.\u001b[39m_tfidf \u001b[38;5;241m=\u001b[39m TfidfTransformer(\n\u001b[0;32m   2086\u001b[0m     norm\u001b[38;5;241m=\u001b[39m\u001b[38;5;28mself\u001b[39m\u001b[38;5;241m.\u001b[39mnorm,\n\u001b[0;32m   2087\u001b[0m     use_idf\u001b[38;5;241m=\u001b[39m\u001b[38;5;28mself\u001b[39m\u001b[38;5;241m.\u001b[39muse_idf,\n\u001b[0;32m   2088\u001b[0m     smooth_idf\u001b[38;5;241m=\u001b[39m\u001b[38;5;28mself\u001b[39m\u001b[38;5;241m.\u001b[39msmooth_idf,\n\u001b[0;32m   2089\u001b[0m     sublinear_tf\u001b[38;5;241m=\u001b[39m\u001b[38;5;28mself\u001b[39m\u001b[38;5;241m.\u001b[39msublinear_tf,\n\u001b[0;32m   2090\u001b[0m )\n\u001b[1;32m-> 2091\u001b[0m X \u001b[38;5;241m=\u001b[39m \u001b[38;5;28msuper\u001b[39m()\u001b[38;5;241m.\u001b[39mfit_transform(raw_documents)\n\u001b[0;32m   2092\u001b[0m \u001b[38;5;28mself\u001b[39m\u001b[38;5;241m.\u001b[39m_tfidf\u001b[38;5;241m.\u001b[39mfit(X)\n\u001b[0;32m   2093\u001b[0m \u001b[38;5;66;03m# X is already a transformed view of raw_documents so\u001b[39;00m\n\u001b[0;32m   2094\u001b[0m \u001b[38;5;66;03m# we set copy to False\u001b[39;00m\n",
      "File \u001b[1;32m~\\aditya139\\adi\\Lib\\site-packages\\sklearn\\base.py:1473\u001b[0m, in \u001b[0;36m_fit_context.<locals>.decorator.<locals>.wrapper\u001b[1;34m(estimator, *args, **kwargs)\u001b[0m\n\u001b[0;32m   1466\u001b[0m     estimator\u001b[38;5;241m.\u001b[39m_validate_params()\n\u001b[0;32m   1468\u001b[0m \u001b[38;5;28;01mwith\u001b[39;00m config_context(\n\u001b[0;32m   1469\u001b[0m     skip_parameter_validation\u001b[38;5;241m=\u001b[39m(\n\u001b[0;32m   1470\u001b[0m         prefer_skip_nested_validation \u001b[38;5;129;01mor\u001b[39;00m global_skip_validation\n\u001b[0;32m   1471\u001b[0m     )\n\u001b[0;32m   1472\u001b[0m ):\n\u001b[1;32m-> 1473\u001b[0m     \u001b[38;5;28;01mreturn\u001b[39;00m fit_method(estimator, \u001b[38;5;241m*\u001b[39margs, \u001b[38;5;241m*\u001b[39m\u001b[38;5;241m*\u001b[39mkwargs)\n",
      "File \u001b[1;32m~\\aditya139\\adi\\Lib\\site-packages\\sklearn\\feature_extraction\\text.py:1372\u001b[0m, in \u001b[0;36mCountVectorizer.fit_transform\u001b[1;34m(self, raw_documents, y)\u001b[0m\n\u001b[0;32m   1364\u001b[0m             warnings\u001b[38;5;241m.\u001b[39mwarn(\n\u001b[0;32m   1365\u001b[0m                 \u001b[38;5;124m\"\u001b[39m\u001b[38;5;124mUpper case characters found in\u001b[39m\u001b[38;5;124m\"\u001b[39m\n\u001b[0;32m   1366\u001b[0m                 \u001b[38;5;124m\"\u001b[39m\u001b[38;5;124m vocabulary while \u001b[39m\u001b[38;5;124m'\u001b[39m\u001b[38;5;124mlowercase\u001b[39m\u001b[38;5;124m'\u001b[39m\u001b[38;5;124m\"\u001b[39m\n\u001b[0;32m   1367\u001b[0m                 \u001b[38;5;124m\"\u001b[39m\u001b[38;5;124m is True. These entries will not\u001b[39m\u001b[38;5;124m\"\u001b[39m\n\u001b[0;32m   1368\u001b[0m                 \u001b[38;5;124m\"\u001b[39m\u001b[38;5;124m be matched with any documents\u001b[39m\u001b[38;5;124m\"\u001b[39m\n\u001b[0;32m   1369\u001b[0m             )\n\u001b[0;32m   1370\u001b[0m             \u001b[38;5;28;01mbreak\u001b[39;00m\n\u001b[1;32m-> 1372\u001b[0m vocabulary, X \u001b[38;5;241m=\u001b[39m \u001b[38;5;28mself\u001b[39m\u001b[38;5;241m.\u001b[39m_count_vocab(raw_documents, \u001b[38;5;28mself\u001b[39m\u001b[38;5;241m.\u001b[39mfixed_vocabulary_)\n\u001b[0;32m   1374\u001b[0m \u001b[38;5;28;01mif\u001b[39;00m \u001b[38;5;28mself\u001b[39m\u001b[38;5;241m.\u001b[39mbinary:\n\u001b[0;32m   1375\u001b[0m     X\u001b[38;5;241m.\u001b[39mdata\u001b[38;5;241m.\u001b[39mfill(\u001b[38;5;241m1\u001b[39m)\n",
      "File \u001b[1;32m~\\aditya139\\adi\\Lib\\site-packages\\sklearn\\feature_extraction\\text.py:1278\u001b[0m, in \u001b[0;36mCountVectorizer._count_vocab\u001b[1;34m(self, raw_documents, fixed_vocab)\u001b[0m\n\u001b[0;32m   1276\u001b[0m     vocabulary \u001b[38;5;241m=\u001b[39m \u001b[38;5;28mdict\u001b[39m(vocabulary)\n\u001b[0;32m   1277\u001b[0m     \u001b[38;5;28;01mif\u001b[39;00m \u001b[38;5;129;01mnot\u001b[39;00m vocabulary:\n\u001b[1;32m-> 1278\u001b[0m         \u001b[38;5;28;01mraise\u001b[39;00m \u001b[38;5;167;01mValueError\u001b[39;00m(\n\u001b[0;32m   1279\u001b[0m             \u001b[38;5;124m\"\u001b[39m\u001b[38;5;124mempty vocabulary; perhaps the documents only contain stop words\u001b[39m\u001b[38;5;124m\"\u001b[39m\n\u001b[0;32m   1280\u001b[0m         )\n\u001b[0;32m   1282\u001b[0m \u001b[38;5;28;01mif\u001b[39;00m indptr[\u001b[38;5;241m-\u001b[39m\u001b[38;5;241m1\u001b[39m] \u001b[38;5;241m>\u001b[39m np\u001b[38;5;241m.\u001b[39miinfo(np\u001b[38;5;241m.\u001b[39mint32)\u001b[38;5;241m.\u001b[39mmax:  \u001b[38;5;66;03m# = 2**31 - 1\u001b[39;00m\n\u001b[0;32m   1283\u001b[0m     \u001b[38;5;28;01mif\u001b[39;00m _IS_32BIT:\n",
      "\u001b[1;31mValueError\u001b[0m: empty vocabulary; perhaps the documents only contain stop words"
     ]
    }
   ],
   "source": [
    "recommend('Double Room','Spain','Manchester','Hotels')"
   ]
  },
  {
   "cell_type": "code",
   "execution_count": 101,
   "id": "d23969ef-327c-4955-b24f-6fa6aa266aa2",
   "metadata": {},
   "outputs": [
    {
     "data": {
      "text/plain": [
       "Series([], Name: city, dtype: bool)"
      ]
     },
     "execution_count": 101,
     "metadata": {},
     "output_type": "execute_result"
    }
   ],
   "source": [
    "x = df_final[df_final['country'] == 'Spain']['city'] == 'Manchester'\n",
    "x[x]"
   ]
  },
  {
   "cell_type": "code",
   "execution_count": null,
   "id": "1d64a4f0-660f-4dee-ba63-20367c2b917b",
   "metadata": {},
   "outputs": [],
   "source": []
  },
  {
   "cell_type": "code",
   "execution_count": 72,
   "id": "03f5d1dc-746c-4c14-98ca-c17d2e6628b7",
   "metadata": {},
   "outputs": [],
   "source": [
    "import joblib"
   ]
  },
  {
   "cell_type": "code",
   "execution_count": 73,
   "id": "f2fa970f-0ef1-4cd2-bf02-2baf87e4cad3",
   "metadata": {},
   "outputs": [
    {
     "data": {
      "text/plain": [
       "['df_final.joblib']"
      ]
     },
     "execution_count": 73,
     "metadata": {},
     "output_type": "execute_result"
    }
   ],
   "source": [
    "joblib.dump(df_final,'df_final.joblib')"
   ]
  },
  {
   "cell_type": "code",
   "execution_count": 74,
   "id": "3721fa61-8afb-4284-ad34-a4710741287c",
   "metadata": {},
   "outputs": [
    {
     "name": "stdout",
     "output_type": "stream",
     "text": [
      "2.2.2\n"
     ]
    }
   ],
   "source": [
    "print(pd.__version__)"
   ]
  },
  {
   "cell_type": "code",
   "execution_count": 75,
   "id": "f53734c9-0c1f-4a16-b723-edf06005df4c",
   "metadata": {},
   "outputs": [
    {
     "data": {
      "text/plain": [
       "['recommend.joblib']"
      ]
     },
     "execution_count": 75,
     "metadata": {},
     "output_type": "execute_result"
    }
   ],
   "source": [
    "joblib.dump(recommend,'recommend.joblib')"
   ]
  },
  {
   "cell_type": "code",
   "execution_count": 76,
   "id": "4f28eab4-f009-404c-a04f-87c98e2b2fa8",
   "metadata": {},
   "outputs": [],
   "source": [
    "import pickle"
   ]
  },
  {
   "cell_type": "code",
   "execution_count": 77,
   "id": "5c3e88da-a71f-4e0a-ab78-0585089ba064",
   "metadata": {},
   "outputs": [],
   "source": [
    "pickle.dump(df_final,open('df_final.pkl','wb'))"
   ]
  },
  {
   "cell_type": "code",
   "execution_count": 78,
   "id": "2f864630-6c0d-461d-b421-3fba6dc9a96f",
   "metadata": {},
   "outputs": [],
   "source": [
    "pickle.dump(recommend,open('recommend.pkl','wb'))"
   ]
  },
  {
   "cell_type": "code",
   "execution_count": null,
   "id": "ee76c6e5-7160-47bb-af72-5559bac158b3",
   "metadata": {},
   "outputs": [],
   "source": []
  },
  {
   "cell_type": "code",
   "execution_count": null,
   "id": "c402306d-93d6-437c-b849-d5f0f6ccfeba",
   "metadata": {},
   "outputs": [],
   "source": []
  },
  {
   "cell_type": "code",
   "execution_count": null,
   "id": "790d17a6-da89-4c9a-81e6-7f65afc3ab6e",
   "metadata": {},
   "outputs": [],
   "source": []
  },
  {
   "cell_type": "code",
   "execution_count": null,
   "id": "0b1c857e-fce9-416b-a655-0b240ea1e89c",
   "metadata": {},
   "outputs": [],
   "source": []
  },
  {
   "cell_type": "code",
   "execution_count": null,
   "id": "82b365b2-c83a-4e64-b2db-6f3b5f950bb8",
   "metadata": {},
   "outputs": [],
   "source": []
  },
  {
   "cell_type": "code",
   "execution_count": null,
   "id": "98f0a02e-6c10-446b-8165-db37bd083d49",
   "metadata": {},
   "outputs": [],
   "source": []
  }
 ],
 "metadata": {
  "kernelspec": {
   "display_name": "Python 3 (ipykernel)",
   "language": "python",
   "name": "python3"
  },
  "language_info": {
   "codemirror_mode": {
    "name": "ipython",
    "version": 3
   },
   "file_extension": ".py",
   "mimetype": "text/x-python",
   "name": "python",
   "nbconvert_exporter": "python",
   "pygments_lexer": "ipython3",
   "version": "3.11.7"
  }
 },
 "nbformat": 4,
 "nbformat_minor": 5
}
